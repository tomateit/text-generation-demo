{
 "cells": [
  {
   "cell_type": "markdown",
   "id": "85998737",
   "metadata": {},
   "source": [
    "# Генерация текста с помощью LSTM-сетей"
   ]
  },
  {
   "cell_type": "markdown",
   "id": "c073b17c",
   "metadata": {},
   "source": [
    "Сеть способна выучить распределение символов в последовательностях\n",
    "\n",
    "\n",
    "Датасет формируем проходясь окном по текстовому корпусу, задача сети - предсказывать следующий символ на основании нескольких предыдущих.\n",
    "Данный подход можно улучшить, используя только отдельные предложения с паддингами."
   ]
  },
  {
   "cell_type": "code",
   "execution_count": 1,
   "id": "31716f18",
   "metadata": {},
   "outputs": [],
   "source": [
    "import tensorflow as tf\n",
    "import numpy as np\n",
    "\n",
    "from tensorflow.keras.preprocessing.sequence import pad_sequences\n",
    "from tensorflow.keras.preprocessing.text import Tokenizer\n",
    "from tensorflow.keras.models import Sequential\n",
    "from tensorflow.keras.layers import Dense, Embedding, LSTM, Bidirectional, Dropout\n",
    "from tensorflow.keras.callbacks import ModelCheckpoint, LearningRateScheduler\n",
    "from tensorflow.keras.utils import to_categorical"
   ]
  },
  {
   "cell_type": "code",
   "execution_count": 2,
   "id": "90d41109",
   "metadata": {},
   "outputs": [],
   "source": [
    "import pandas as pd\n",
    "from tqdm import tqdm"
   ]
  },
  {
   "cell_type": "markdown",
   "id": "01490023",
   "metadata": {},
   "source": [
    "### 0. Получение данных для обучения"
   ]
  },
  {
   "cell_type": "markdown",
   "id": "fa2a17a8",
   "metadata": {},
   "source": [
    "Для обучения используется датасет российских новостей, который был сохранён в файл `text_corpus.parquet` со следующими параметрами:"
   ]
  },
  {
   "cell_type": "code",
   "execution_count": 12,
   "id": "918f18a4",
   "metadata": {},
   "outputs": [],
   "source": [
    "# data.to_parquet(\"text_corpus.parquet\", engine=\"pyarrow\", compression=\"gzip\", index=False)"
   ]
  },
  {
   "cell_type": "code",
   "execution_count": 3,
   "id": "30a11d2b",
   "metadata": {},
   "outputs": [],
   "source": [
    "data = pd.read_parquet(\"text_corpus.parquet\", engine=\"pyarrow\", )"
   ]
  },
  {
   "cell_type": "code",
   "execution_count": 4,
   "id": "92e7ddd0",
   "metadata": {},
   "outputs": [
    {
     "data": {
      "text/plain": [
       "50000"
      ]
     },
     "execution_count": 4,
     "metadata": {},
     "output_type": "execute_result"
    }
   ],
   "source": [
    "len(data)"
   ]
  },
  {
   "cell_type": "code",
   "execution_count": 5,
   "id": "b43b6e9b",
   "metadata": {},
   "outputs": [],
   "source": [
    "# после обучения токенизатора можно уменьшить тренировочную выборку\n",
    "# но нужно не забыть обновить переменную corpus\n",
    "data = data.sample(10000)"
   ]
  },
  {
   "cell_type": "markdown",
   "id": "f9048558",
   "metadata": {},
   "source": [
    "### 1. Вспомогательные функции:\n",
    "+ Визуализация процесса обучения\n",
    "    + Сможем посмотреть, как меняется качество с течением времени.\n",
    "+ Коллбек ModelCheckpoint\n",
    "    + Процесс обучения LSTM сетей достаточно длительный. Будет обидно, если из-за непредвиденного сбоя потеряется прогресс за многие часы обучения.\n",
    "+ Колбек динамической подстройки размера батча и learning rate\n",
    "    + Подстраивать LR это уже стандартная практика, а я хочу ещё и размер батча менять: предположу, что большой батч позволит дать некое \"обобщённое\" представление о распределении токенов, а маленький батч улучшит \"грамотность\".\n",
    "\n"
   ]
  },
  {
   "cell_type": "code",
   "execution_count": 6,
   "id": "cd6e8128",
   "metadata": {},
   "outputs": [],
   "source": [
    "import matplotlib.pyplot as plt\n",
    "\n",
    "\n",
    "def plot_graphs(history, string):\n",
    "    plt.plot(history.history[string])\n",
    "    plt.xlabel(\"Epochs\")\n",
    "    plt.ylabel(string)\n",
    "    plt.show()"
   ]
  },
  {
   "cell_type": "code",
   "execution_count": 7,
   "id": "50ab994a",
   "metadata": {},
   "outputs": [],
   "source": [
    "ModelCheckpointCb = ModelCheckpoint(\n",
    "    filepath=\"./model2_checkpoints/\", \n",
    "    monitor='val_loss', \n",
    "    verbose=0, \n",
    "    save_best_only=True,\n",
    "    save_weights_only=True, \n",
    "    mode='auto', \n",
    "    save_freq='epoch',\n",
    "    options=None\n",
    ")"
   ]
  },
  {
   "cell_type": "code",
   "execution_count": 8,
   "id": "7a52c86f",
   "metadata": {},
   "outputs": [],
   "source": [
    "def scheduler(epoch, lr):\n",
    "    if epoch < 30:\n",
    "        return lr\n",
    "    else:\n",
    "        return lr * tf.math.exp(-0.1)\n",
    "\n",
    "\n",
    "LearningRateSchedulerCb = LearningRateScheduler(\n",
    "    scheduler, \n",
    "    verbose=0\n",
    ")\n"
   ]
  },
  {
   "cell_type": "code",
   "execution_count": 9,
   "id": "efe2ce2a",
   "metadata": {
    "jupyter": {
     "source_hidden": true
    }
   },
   "outputs": [],
   "source": [
    "# весь текст одной \"портянкой\", чтобы заранее оценить, какие символы могут нам попадаться\n",
    "# raw_text = \" \".join(data.text)\n",
    "# chars = sorted(list(set(raw_text)))\n",
    "# chars"
   ]
  },
  {
   "cell_type": "markdown",
   "id": "e2e48147",
   "metadata": {},
   "source": [
    "### 3. Предобработка и создание датасета"
   ]
  },
  {
   "cell_type": "markdown",
   "id": "d7e2fb25",
   "metadata": {},
   "source": [
    "Для тренировки LSTM модели понадобится немного поработать с форматами"
   ]
  },
  {
   "cell_type": "markdown",
   "id": "9917fd6b",
   "metadata": {},
   "source": [
    "#### 3.1 Токенизация BPE "
   ]
  },
  {
   "cell_type": "markdown",
   "id": "d5730f23",
   "metadata": {},
   "source": [
    "BPE токенизация посредством yttm эффективна, но потребуется поработать с файлом"
   ]
  },
  {
   "cell_type": "code",
   "execution_count": 9,
   "id": "3719baa7",
   "metadata": {},
   "outputs": [],
   "source": [
    "import youtokentome as yttm\n",
    "import re"
   ]
  },
  {
   "cell_type": "code",
   "execution_count": 10,
   "id": "8c20ef78",
   "metadata": {},
   "outputs": [],
   "source": [
    "total_words = 800\n",
    "max_sequence_length = 80\n",
    "n_samples = 800000 # сколько тренировочных последовательностей потом сгенерируем из корпуса"
   ]
  },
  {
   "cell_type": "markdown",
   "id": "5e4b699a",
   "metadata": {},
   "source": [
    "##### 3.2 Создаём токенизатор BPE и обучаем его"
   ]
  },
  {
   "cell_type": "code",
   "execution_count": 11,
   "id": "a6704759",
   "metadata": {},
   "outputs": [],
   "source": [
    "corpus = \" \\n\".join(data.text.to_list()).lower()\n",
    "# Хочу отделить всю пунктуацию от слов пробелом\n",
    "corpus = \" \".join(re.findall(r\"[\\w']+|[.,!?;\\n]\", corpus))"
   ]
  },
  {
   "cell_type": "code",
   "execution_count": 12,
   "id": "3dac0b44",
   "metadata": {},
   "outputs": [],
   "source": [
    "train_data_path = \"yttm_train_data.txt\"\n",
    "bpe_model_path = \"bpe.yttm\""
   ]
  },
  {
   "cell_type": "code",
   "execution_count": 20,
   "id": "5566c215",
   "metadata": {},
   "outputs": [],
   "source": [
    "with open(train_data_path, \"w\") as _file:\n",
    "    _file.writelines(corpus)"
   ]
  },
  {
   "cell_type": "code",
   "execution_count": 21,
   "id": "3df55b8e",
   "metadata": {},
   "outputs": [],
   "source": [
    "# Training model\n",
    "# (data, model, vocab_size, coverage, n_threads=-1, pad_id=0, unk_id=1, bos_id=2, eos_id=3)\n",
    "bpe = yttm.BPE.train(data=train_data_path, vocab_size=total_words, model=bpe_model_path)"
   ]
  },
  {
   "cell_type": "code",
   "execution_count": 13,
   "id": "c314b1de",
   "metadata": {},
   "outputs": [],
   "source": [
    "# Loading model\n",
    "bpe = yttm.BPE(model=bpe_model_path)"
   ]
  },
  {
   "cell_type": "code",
   "execution_count": 14,
   "id": "adac62ea",
   "metadata": {},
   "outputs": [
    {
     "name": "stdout",
     "output_type": "stream",
     "text": [
      "<PAD> <UNK> <BOS> <EOS> ▁ о е и а н т с р в л к п д м у я ы г з б , ь ч й . х ж ' ц ю ш ф щ э ъ ? ё ! ; _ ▁п ▁с ▁в ▁, ст ни ра ро но ре на ▁о ко то ▁. ▁и ▁по го не де те ли ва ▁м за ны ▁на ль ка ри та ле ла ▁д во ве ▁б ти ци ▁со ви ▁ч ки ло ▁у ▁за ▁' да ть ен ми ▁а ▁не ▁ко сс ▁пре ет ру ся ди ▁про н\n"
     ]
    }
   ],
   "source": [
    "print(' '.join(bpe.vocab())[:300])"
   ]
  },
  {
   "cell_type": "code",
   "execution_count": 102,
   "id": "88761e38",
   "metadata": {},
   "outputs": [],
   "source": [
    "# encode(self, \n",
    "#     sentences, \n",
    "#     output_type=yttm.OutputType.ID, \n",
    "#     bos=False, \n",
    "#     eos=False, \n",
    "#     reverse=False, \n",
    "#     dropout_prob=0)"
   ]
  },
  {
   "cell_type": "code",
   "execution_count": null,
   "id": "8d9770d9",
   "metadata": {},
   "outputs": [],
   "source": []
  },
  {
   "cell_type": "code",
   "execution_count": 15,
   "id": "9ce4cbeb",
   "metadata": {},
   "outputs": [],
   "source": [
    "encoded_corpus = np.array(bpe.encode(corpus))\n",
    "\n",
    "# sequences = sequence[:-(len(sequence)%max_sequence_length)].reshape((len(sequence)//max_sequence_length, max_sequence_length))"
   ]
  },
  {
   "cell_type": "code",
   "execution_count": 16,
   "id": "166d9093",
   "metadata": {},
   "outputs": [
    {
     "name": "stderr",
     "output_type": "stream",
     "text": [
      "100%|██████████| 800000/800000 [00:00<00:00, 2482069.84it/s]\n"
     ]
    }
   ],
   "source": [
    "dataset = []\n",
    "# берём не больше семплов чем n_samples, \n",
    "# или не больше чем максимально возможное количество, если вдруг оно меньше n_samples\n",
    "for i in tqdm(range(min(len(encoded_corpus)-max_sequence_length, n_samples))):\n",
    "        # сами добавляем BOS и EOS токены \n",
    "#         dataset.append([2] + encoded_corpus[i: i+max_sequence_length - 2] + [3])\n",
    "    dataset.append(encoded_corpus[i: i+max_sequence_length - 2])\n",
    "        "
   ]
  },
  {
   "cell_type": "code",
   "execution_count": 17,
   "id": "e76ab1cd",
   "metadata": {},
   "outputs": [],
   "source": [
    "# на всякий случай убедимся, что все последовательности точно одной длины\n",
    "# за одно это сконвертирует в np.array\n",
    "dataset = pad_sequences(dataset, \n",
    "                        maxlen=max_sequence_length, \n",
    "                        padding='pre', \n",
    "                        value=0).astype(np.float32)"
   ]
  },
  {
   "cell_type": "code",
   "execution_count": 18,
   "id": "2c0df0e8",
   "metadata": {},
   "outputs": [
    {
     "data": {
      "text/plain": [
       "[\"<PAD><PAD>нением артиллерии и стрелкового оружия идет в районе населенного пункта бирюково луганская область , сообщили в среду агентству 'интерфакс' очевидцы . 'в эти часы идет боестолкновение примерно в дву\"]"
      ]
     },
     "execution_count": 18,
     "metadata": {},
     "output_type": "execute_result"
    }
   ],
   "source": [
    "bpe.decode([list(dataset[5,:])])"
   ]
  },
  {
   "cell_type": "markdown",
   "id": "80f2e914",
   "metadata": {},
   "source": [
    "------------------\n",
    "Собираем данные в нужные структуры"
   ]
  },
  {
   "cell_type": "code",
   "execution_count": 19,
   "id": "aa1b591f",
   "metadata": {},
   "outputs": [],
   "source": [
    "X, y = dataset[:,:-1], to_categorical(dataset[:,-1], num_classes=total_words)"
   ]
  },
  {
   "cell_type": "code",
   "execution_count": 20,
   "id": "65880c37",
   "metadata": {},
   "outputs": [],
   "source": [
    "X = X.reshape((*X.shape, 1))"
   ]
  },
  {
   "cell_type": "code",
   "execution_count": 21,
   "id": "2b24d455",
   "metadata": {},
   "outputs": [
    {
     "data": {
      "text/plain": [
       "(800000, 79, 1)"
      ]
     },
     "execution_count": 21,
     "metadata": {},
     "output_type": "execute_result"
    }
   ],
   "source": [
    "X.shape\n"
   ]
  },
  {
   "cell_type": "code",
   "execution_count": 22,
   "id": "e60d4bdb",
   "metadata": {},
   "outputs": [
    {
     "data": {
      "text/plain": [
       "(800000, 800)"
      ]
     },
     "execution_count": 22,
     "metadata": {},
     "output_type": "execute_result"
    }
   ],
   "source": [
    "y.shape"
   ]
  },
  {
   "cell_type": "markdown",
   "id": "c414b2cb",
   "metadata": {},
   "source": [
    "## 4. Модель"
   ]
  },
  {
   "cell_type": "markdown",
   "id": "d9a4f1e0",
   "metadata": {},
   "source": [
    "В качестве модели будет применяться LSTM сеть с двумя слоями LSTM"
   ]
  },
  {
   "cell_type": "markdown",
   "id": "82d6ee8e",
   "metadata": {},
   "source": [
    "TODO\n",
    "+ Gradient clipping\n",
    "+ More layers?"
   ]
  },
  {
   "cell_type": "code",
   "execution_count": 93,
   "id": "6764e8f6",
   "metadata": {},
   "outputs": [],
   "source": [
    "model = Sequential()\n",
    "model.add(LSTM(128, input_shape=(X.shape[1], X.shape[2]), return_sequences=True))\n",
    "model.add(Dropout(0.2))\n",
    "model.add(LSTM(128))\n",
    "model.add(Dropout(0.2))\n",
    "model.add(Dense(y.shape[1], activation='softmax'))"
   ]
  },
  {
   "cell_type": "code",
   "execution_count": 50,
   "id": "7b634816",
   "metadata": {},
   "outputs": [],
   "source": [
    "model.compile(\n",
    "    loss='categorical_crossentropy', \n",
    "    optimizer='adam', \n",
    "    metrics=['accuracy']\n",
    ")"
   ]
  },
  {
   "cell_type": "code",
   "execution_count": 52,
   "id": "b258a1aa",
   "metadata": {},
   "outputs": [
    {
     "name": "stdout",
     "output_type": "stream",
     "text": [
      "Model: \"sequential_2\"\n",
      "_________________________________________________________________\n",
      "Layer (type)                 Output Shape              Param #   \n",
      "=================================================================\n",
      "lstm_2 (LSTM)                (None, 99, 256)           264192    \n",
      "_________________________________________________________________\n",
      "dropout_2 (Dropout)          (None, 99, 256)           0         \n",
      "_________________________________________________________________\n",
      "lstm_3 (LSTM)                (None, 256)               525312    \n",
      "_________________________________________________________________\n",
      "dropout_3 (Dropout)          (None, 256)               0         \n",
      "_________________________________________________________________\n",
      "dense_2 (Dense)              (None, 65)                16705     \n",
      "=================================================================\n",
      "Total params: 806,209\n",
      "Trainable params: 806,209\n",
      "Non-trainable params: 0\n",
      "_________________________________________________________________\n"
     ]
    }
   ],
   "source": [
    "model.summary()"
   ]
  },
  {
   "cell_type": "code",
   "execution_count": null,
   "id": "4dc0708b",
   "metadata": {},
   "outputs": [],
   "source": [
    "history = model.fit(X, y, \n",
    "    epochs=1, \n",
    "    verbose=1,\n",
    "    callbacks=[ModelCheckpointCb],\n",
    "    batch_size=500, \n",
    "    validation_split=0.3, \n",
    "#     validation_data=(X_test, y_test), \n",
    "    shuffle=False, \n",
    "#     class_weight=None,\n",
    "#     sample_weight=None, \n",
    "#     initial_epoch=0, \n",
    "#     steps_per_epoch=None,\n",
    "#     validation_steps=None, \n",
    "#     validation_batch_size=None, \n",
    "#     validation_freq=1,\n",
    "#     max_queue_size=10, \n",
    "#     workers=1, \n",
    "#     use_multiprocessing=False\n",
    ")"
   ]
  },
  {
   "cell_type": "code",
   "execution_count": 23,
   "id": "e6ad4be9",
   "metadata": {},
   "outputs": [],
   "source": [
    "model2 = Sequential()\n",
    "model2.add(LSTM(18))\n",
    "model2.add(Dropout(0.2))\n",
    "model2.add(Dense(y.shape[1], activation='softmax'))"
   ]
  },
  {
   "cell_type": "code",
   "execution_count": 24,
   "id": "f436ddf1",
   "metadata": {},
   "outputs": [],
   "source": [
    "model2.compile(\n",
    "    loss='categorical_crossentropy', \n",
    "    optimizer='adam', \n",
    "    metrics=['accuracy']\n",
    ")"
   ]
  },
  {
   "cell_type": "code",
   "execution_count": null,
   "id": "3fbaf30c",
   "metadata": {},
   "outputs": [],
   "source": []
  },
  {
   "cell_type": "code",
   "execution_count": 25,
   "id": "bee273c2",
   "metadata": {},
   "outputs": [
    {
     "name": "stdout",
     "output_type": "stream",
     "text": [
      "Epoch 1/100\n",
      "35000/35000 [==============================] - 376s 11ms/step - loss: 5.9751 - accuracy: 0.0300 - val_loss: 5.8523 - val_accuracy: 0.0333\n",
      "Epoch 2/100\n",
      "35000/35000 [==============================] - 369s 11ms/step - loss: 5.8679 - accuracy: 0.0332 - val_loss: 5.8133 - val_accuracy: 0.0371\n",
      "Epoch 3/100\n",
      "35000/35000 [==============================] - 371s 11ms/step - loss: 5.8369 - accuracy: 0.0346 - val_loss: 5.7910 - val_accuracy: 0.0387\n",
      "Epoch 4/100\n",
      "35000/35000 [==============================] - 370s 11ms/step - loss: 5.8180 - accuracy: 0.0352 - val_loss: 5.7845 - val_accuracy: 0.0387\n",
      "Epoch 5/100\n",
      "35000/35000 [==============================] - 371s 11ms/step - loss: 5.8121 - accuracy: 0.0350 - val_loss: 5.7744 - val_accuracy: 0.0386\n",
      "Epoch 6/100\n",
      "35000/35000 [==============================] - 372s 11ms/step - loss: 5.8095 - accuracy: 0.0358 - val_loss: 5.7883 - val_accuracy: 0.0391\n",
      "Epoch 7/100\n",
      "35000/35000 [==============================] - 373s 11ms/step - loss: 5.8112 - accuracy: 0.0360 - val_loss: 5.7779 - val_accuracy: 0.0387\n",
      "Epoch 8/100\n",
      "35000/35000 [==============================] - 374s 11ms/step - loss: 5.8070 - accuracy: 0.0362 - val_loss: 5.7749 - val_accuracy: 0.0388\n",
      "Epoch 9/100\n",
      "35000/35000 [==============================] - 376s 11ms/step - loss: 5.8057 - accuracy: 0.0365 - val_loss: 5.7741 - val_accuracy: 0.0394\n",
      "Epoch 10/100\n",
      "35000/35000 [==============================] - 376s 11ms/step - loss: 5.8039 - accuracy: 0.0369 - val_loss: 5.7714 - val_accuracy: 0.0397\n",
      "Epoch 11/100\n",
      "35000/35000 [==============================] - 378s 11ms/step - loss: 5.8021 - accuracy: 0.0368 - val_loss: 5.7716 - val_accuracy: 0.0381\n",
      "Epoch 12/100\n",
      "35000/35000 [==============================] - 377s 11ms/step - loss: 5.7967 - accuracy: 0.0366 - val_loss: 5.7597 - val_accuracy: 0.0405\n",
      "Epoch 13/100\n",
      "35000/35000 [==============================] - 376s 11ms/step - loss: 5.7933 - accuracy: 0.0368 - val_loss: 5.7574 - val_accuracy: 0.0402\n",
      "Epoch 14/100\n",
      "35000/35000 [==============================] - 377s 11ms/step - loss: 5.7956 - accuracy: 0.0373 - val_loss: 5.7783 - val_accuracy: 0.0396\n",
      "Epoch 15/100\n",
      "35000/35000 [==============================] - 376s 11ms/step - loss: 5.8000 - accuracy: 0.0367 - val_loss: 5.7656 - val_accuracy: 0.0402\n",
      "Epoch 16/100\n",
      "35000/35000 [==============================] - 377s 11ms/step - loss: 5.7982 - accuracy: 0.0370 - val_loss: 5.7687 - val_accuracy: 0.0399\n",
      "Epoch 17/100\n",
      "35000/35000 [==============================] - 379s 11ms/step - loss: 5.7975 - accuracy: 0.0373 - val_loss: 5.7636 - val_accuracy: 0.0403\n",
      "Epoch 18/100\n",
      "35000/35000 [==============================] - 376s 11ms/step - loss: 5.7937 - accuracy: 0.0374 - val_loss: 5.7606 - val_accuracy: 0.0404\n",
      "Epoch 19/100\n",
      "35000/35000 [==============================] - 376s 11ms/step - loss: 5.7915 - accuracy: 0.0374 - val_loss: 5.7630 - val_accuracy: 0.0406\n",
      "Epoch 20/100\n",
      "35000/35000 [==============================] - 376s 11ms/step - loss: 5.7883 - accuracy: 0.0379 - val_loss: 5.7704 - val_accuracy: 0.0398\n",
      "Epoch 21/100\n",
      "35000/35000 [==============================] - 376s 11ms/step - loss: 5.7984 - accuracy: 0.0371 - val_loss: 5.7821 - val_accuracy: 0.0397\n",
      "Epoch 22/100\n",
      "35000/35000 [==============================] - 377s 11ms/step - loss: 5.8043 - accuracy: 0.0369 - val_loss: 5.7734 - val_accuracy: 0.0397\n",
      "Epoch 23/100\n",
      "35000/35000 [==============================] - 376s 11ms/step - loss: 5.7932 - accuracy: 0.0372 - val_loss: 5.7657 - val_accuracy: 0.0406\n",
      "Epoch 24/100\n",
      "35000/35000 [==============================] - 377s 11ms/step - loss: 5.7949 - accuracy: 0.0369 - val_loss: 5.7626 - val_accuracy: 0.0402\n",
      "Epoch 25/100\n",
      "35000/35000 [==============================] - 376s 11ms/step - loss: 5.7891 - accuracy: 0.0371 - val_loss: 5.7641 - val_accuracy: 0.0396\n",
      "Epoch 26/100\n",
      "35000/35000 [==============================] - 378s 11ms/step - loss: 5.7910 - accuracy: 0.0373 - val_loss: 5.7644 - val_accuracy: 0.0405\n",
      "Epoch 27/100\n",
      "35000/35000 [==============================] - 379s 11ms/step - loss: 5.7914 - accuracy: 0.0370 - val_loss: 5.7629 - val_accuracy: 0.0399\n",
      "Epoch 28/100\n",
      "35000/35000 [==============================] - 379s 11ms/step - loss: 5.7900 - accuracy: 0.0377 - val_loss: 5.7566 - val_accuracy: 0.0409\n",
      "Epoch 29/100\n",
      "35000/35000 [==============================] - 379s 11ms/step - loss: 5.7912 - accuracy: 0.0375 - val_loss: 5.7620 - val_accuracy: 0.0404\n",
      "Epoch 30/100\n",
      "35000/35000 [==============================] - 384s 11ms/step - loss: 5.7894 - accuracy: 0.0374 - val_loss: 5.7538 - val_accuracy: 0.0408\n",
      "Epoch 31/100\n",
      "35000/35000 [==============================] - 383s 11ms/step - loss: 5.7870 - accuracy: 0.0375 - val_loss: 5.7569 - val_accuracy: 0.0404\n",
      "Epoch 32/100\n",
      "35000/35000 [==============================] - 383s 11ms/step - loss: 5.7873 - accuracy: 0.0375 - val_loss: 5.7610 - val_accuracy: 0.0407\n",
      "Epoch 33/100\n",
      "35000/35000 [==============================] - 382s 11ms/step - loss: 5.7836 - accuracy: 0.0370 - val_loss: 5.7536 - val_accuracy: 0.0410\n",
      "Epoch 34/100\n",
      "35000/35000 [==============================] - 384s 11ms/step - loss: 5.7833 - accuracy: 0.0378 - val_loss: 5.7514 - val_accuracy: 0.0411\n",
      "Epoch 35/100\n",
      "35000/35000 [==============================] - 382s 11ms/step - loss: 5.7842 - accuracy: 0.0375 - val_loss: 5.7517 - val_accuracy: 0.0410\n",
      "Epoch 36/100\n",
      "35000/35000 [==============================] - 383s 11ms/step - loss: 5.7804 - accuracy: 0.0376 - val_loss: 5.7510 - val_accuracy: 0.0414\n",
      "Epoch 37/100\n",
      "35000/35000 [==============================] - 383s 11ms/step - loss: 5.7770 - accuracy: 0.0380 - val_loss: 5.7502 - val_accuracy: 0.0409\n",
      "Epoch 38/100\n",
      "35000/35000 [==============================] - 383s 11ms/step - loss: 5.7765 - accuracy: 0.0381 - val_loss: 5.7515 - val_accuracy: 0.0406\n",
      "Epoch 39/100\n",
      "35000/35000 [==============================] - 383s 11ms/step - loss: 5.7774 - accuracy: 0.0373 - val_loss: 5.7492 - val_accuracy: 0.0406\n",
      "Epoch 40/100\n",
      "35000/35000 [==============================] - 384s 11ms/step - loss: 5.7746 - accuracy: 0.0379 - val_loss: 5.7496 - val_accuracy: 0.0416\n",
      "Epoch 41/100\n",
      "35000/35000 [==============================] - 383s 11ms/step - loss: 5.7727 - accuracy: 0.0382 - val_loss: 5.7486 - val_accuracy: 0.0410\n",
      "Epoch 42/100\n",
      "35000/35000 [==============================] - 382s 11ms/step - loss: 5.7737 - accuracy: 0.0379 - val_loss: 5.7455 - val_accuracy: 0.0415\n",
      "Epoch 43/100\n",
      "35000/35000 [==============================] - 388s 11ms/step - loss: 5.7740 - accuracy: 0.0374 - val_loss: 5.7482 - val_accuracy: 0.0412\n",
      "Epoch 44/100\n",
      "35000/35000 [==============================] - 391s 11ms/step - loss: 5.7720 - accuracy: 0.0379 - val_loss: 5.7490 - val_accuracy: 0.0414\n",
      "Epoch 45/100\n",
      "35000/35000 [==============================] - 385s 11ms/step - loss: 5.7750 - accuracy: 0.0380 - val_loss: 5.7469 - val_accuracy: 0.0413\n",
      "Epoch 46/100\n",
      "35000/35000 [==============================] - 384s 11ms/step - loss: 5.7717 - accuracy: 0.0381 - val_loss: 5.7444 - val_accuracy: 0.0415\n",
      "Epoch 47/100\n",
      "35000/35000 [==============================] - 377s 11ms/step - loss: 5.7715 - accuracy: 0.0376 - val_loss: 5.7449 - val_accuracy: 0.0414\n",
      "Epoch 48/100\n",
      "35000/35000 [==============================] - 385s 11ms/step - loss: 5.7706 - accuracy: 0.0381 - val_loss: 5.7465 - val_accuracy: 0.0414\n",
      "Epoch 49/100\n",
      "35000/35000 [==============================] - 384s 11ms/step - loss: 5.7671 - accuracy: 0.0380 - val_loss: 5.7460 - val_accuracy: 0.0416\n",
      "Epoch 50/100\n",
      "35000/35000 [==============================] - 388s 11ms/step - loss: 5.7691 - accuracy: 0.0383 - val_loss: 5.7458 - val_accuracy: 0.0413\n",
      "Epoch 51/100\n",
      "35000/35000 [==============================] - 382s 11ms/step - loss: 5.7673 - accuracy: 0.0387 - val_loss: 5.7436 - val_accuracy: 0.0416\n",
      "Epoch 52/100\n",
      "35000/35000 [==============================] - 381s 11ms/step - loss: 5.7710 - accuracy: 0.0377 - val_loss: 5.7434 - val_accuracy: 0.0416\n",
      "Epoch 53/100\n",
      "35000/35000 [==============================] - 381s 11ms/step - loss: 5.7693 - accuracy: 0.0383 - val_loss: 5.7423 - val_accuracy: 0.0416\n",
      "Epoch 54/100\n",
      "35000/35000 [==============================] - 381s 11ms/step - loss: 5.7673 - accuracy: 0.0384 - val_loss: 5.7428 - val_accuracy: 0.0417\n",
      "Epoch 55/100\n",
      "35000/35000 [==============================] - 381s 11ms/step - loss: 5.7654 - accuracy: 0.0386 - val_loss: 5.7420 - val_accuracy: 0.0416\n",
      "Epoch 56/100\n",
      "35000/35000 [==============================] - 381s 11ms/step - loss: 5.7672 - accuracy: 0.0381 - val_loss: 5.7435 - val_accuracy: 0.0415\n",
      "Epoch 57/100\n",
      "35000/35000 [==============================] - 381s 11ms/step - loss: 5.7662 - accuracy: 0.0381 - val_loss: 5.7429 - val_accuracy: 0.0417\n",
      "Epoch 58/100\n",
      "35000/35000 [==============================] - 381s 11ms/step - loss: 5.7672 - accuracy: 0.0381 - val_loss: 5.7422 - val_accuracy: 0.0417\n",
      "Epoch 59/100\n",
      "35000/35000 [==============================] - 381s 11ms/step - loss: 5.7669 - accuracy: 0.0380 - val_loss: 5.7436 - val_accuracy: 0.0418\n",
      "Epoch 60/100\n",
      "35000/35000 [==============================] - 381s 11ms/step - loss: 5.7666 - accuracy: 0.0379 - val_loss: 5.7442 - val_accuracy: 0.0413\n",
      "Epoch 61/100\n",
      "35000/35000 [==============================] - 384s 11ms/step - loss: 5.7692 - accuracy: 0.0377 - val_loss: 5.7415 - val_accuracy: 0.0417\n",
      "Epoch 62/100\n",
      "35000/35000 [==============================] - 399s 11ms/step - loss: 5.7650 - accuracy: 0.0381 - val_loss: 5.7426 - val_accuracy: 0.0416\n",
      "Epoch 63/100\n",
      "35000/35000 [==============================] - 392s 11ms/step - loss: 5.7682 - accuracy: 0.0378 - val_loss: 5.7417 - val_accuracy: 0.0418\n",
      "Epoch 64/100\n",
      "35000/35000 [==============================] - 386s 11ms/step - loss: 5.7683 - accuracy: 0.0380 - val_loss: 5.7418 - val_accuracy: 0.0417\n",
      "Epoch 65/100\n",
      "35000/35000 [==============================] - 383s 11ms/step - loss: 5.7637 - accuracy: 0.0385 - val_loss: 5.7417 - val_accuracy: 0.0417\n",
      "Epoch 66/100\n",
      "35000/35000 [==============================] - 385s 11ms/step - loss: 5.7649 - accuracy: 0.0380 - val_loss: 5.7415 - val_accuracy: 0.0417\n",
      "Epoch 67/100\n",
      "35000/35000 [==============================] - 385s 11ms/step - loss: 5.7677 - accuracy: 0.0379 - val_loss: 5.7416 - val_accuracy: 0.0417\n",
      "Epoch 68/100\n",
      "35000/35000 [==============================] - 369s 11ms/step - loss: 5.7645 - accuracy: 0.0384 - val_loss: 5.7419 - val_accuracy: 0.0417\n",
      "Epoch 69/100\n",
      "35000/35000 [==============================] - 368s 11ms/step - loss: 5.7678 - accuracy: 0.0383 - val_loss: 5.7419 - val_accuracy: 0.0417\n",
      "Epoch 70/100\n",
      "35000/35000 [==============================] - 366s 10ms/step - loss: 5.7643 - accuracy: 0.0383 - val_loss: 5.7411 - val_accuracy: 0.0417\n",
      "Epoch 71/100\n",
      "35000/35000 [==============================] - 369s 11ms/step - loss: 5.7675 - accuracy: 0.0381 - val_loss: 5.7411 - val_accuracy: 0.0417\n",
      "Epoch 72/100\n",
      "35000/35000 [==============================] - 369s 11ms/step - loss: 5.7635 - accuracy: 0.0385 - val_loss: 5.7414 - val_accuracy: 0.0417\n",
      "Epoch 73/100\n",
      "35000/35000 [==============================] - 367s 10ms/step - loss: 5.7693 - accuracy: 0.0380 - val_loss: 5.7411 - val_accuracy: 0.0417\n",
      "Epoch 74/100\n",
      "35000/35000 [==============================] - 366s 10ms/step - loss: 5.7699 - accuracy: 0.0378 - val_loss: 5.7407 - val_accuracy: 0.0418\n",
      "Epoch 75/100\n",
      "35000/35000 [==============================] - 367s 10ms/step - loss: 5.7642 - accuracy: 0.0384 - val_loss: 5.7410 - val_accuracy: 0.0417\n",
      "Epoch 76/100\n",
      "35000/35000 [==============================] - 368s 11ms/step - loss: 5.7678 - accuracy: 0.0379 - val_loss: 5.7410 - val_accuracy: 0.0418\n",
      "Epoch 77/100\n",
      "35000/35000 [==============================] - 369s 11ms/step - loss: 5.7668 - accuracy: 0.0379 - val_loss: 5.7410 - val_accuracy: 0.0418\n",
      "Epoch 78/100\n",
      "35000/35000 [==============================] - 371s 11ms/step - loss: 5.7661 - accuracy: 0.0383 - val_loss: 5.7411 - val_accuracy: 0.0418\n",
      "Epoch 79/100\n",
      "35000/35000 [==============================] - 374s 11ms/step - loss: 5.7657 - accuracy: 0.0380 - val_loss: 5.7411 - val_accuracy: 0.0417\n",
      "Epoch 80/100\n",
      "35000/35000 [==============================] - 369s 11ms/step - loss: 5.7672 - accuracy: 0.0379 - val_loss: 5.7412 - val_accuracy: 0.0417\n",
      "Epoch 81/100\n",
      "35000/35000 [==============================] - 370s 11ms/step - loss: 5.7661 - accuracy: 0.0379 - val_loss: 5.7406 - val_accuracy: 0.0417\n",
      "Epoch 82/100\n",
      "35000/35000 [==============================] - 371s 11ms/step - loss: 5.7651 - accuracy: 0.0384 - val_loss: 5.7408 - val_accuracy: 0.0417\n",
      "Epoch 83/100\n",
      "35000/35000 [==============================] - 375s 11ms/step - loss: 5.7680 - accuracy: 0.0379 - val_loss: 5.7412 - val_accuracy: 0.0417\n",
      "Epoch 84/100\n",
      "35000/35000 [==============================] - 373s 11ms/step - loss: 5.7643 - accuracy: 0.0382 - val_loss: 5.7409 - val_accuracy: 0.0417\n",
      "Epoch 85/100\n",
      "35000/35000 [==============================] - 376s 11ms/step - loss: 5.7661 - accuracy: 0.0376 - val_loss: 5.7409 - val_accuracy: 0.0418\n",
      "Epoch 86/100\n",
      "35000/35000 [==============================] - 375s 11ms/step - loss: 5.7660 - accuracy: 0.0385 - val_loss: 5.7408 - val_accuracy: 0.0418\n",
      "Epoch 87/100\n",
      "35000/35000 [==============================] - 374s 11ms/step - loss: 5.7677 - accuracy: 0.0377 - val_loss: 5.7408 - val_accuracy: 0.0418\n",
      "Epoch 88/100\n",
      "35000/35000 [==============================] - 375s 11ms/step - loss: 5.7620 - accuracy: 0.0381 - val_loss: 5.7408 - val_accuracy: 0.0418\n",
      "Epoch 89/100\n",
      "35000/35000 [==============================] - 375s 11ms/step - loss: 5.7651 - accuracy: 0.0382 - val_loss: 5.7406 - val_accuracy: 0.0417\n",
      "Epoch 90/100\n",
      "35000/35000 [==============================] - 375s 11ms/step - loss: 5.7647 - accuracy: 0.0383 - val_loss: 5.7404 - val_accuracy: 0.0418\n",
      "Epoch 91/100\n",
      "35000/35000 [==============================] - 374s 11ms/step - loss: 5.7655 - accuracy: 0.0387 - val_loss: 5.7403 - val_accuracy: 0.0418\n",
      "Epoch 92/100\n",
      "35000/35000 [==============================] - 372s 11ms/step - loss: 5.7634 - accuracy: 0.0383 - val_loss: 5.7404 - val_accuracy: 0.0418\n",
      "Epoch 93/100\n",
      "35000/35000 [==============================] - 372s 11ms/step - loss: 5.7666 - accuracy: 0.0381 - val_loss: 5.7400 - val_accuracy: 0.0418\n",
      "Epoch 94/100\n",
      "35000/35000 [==============================] - 372s 11ms/step - loss: 5.7689 - accuracy: 0.0383 - val_loss: 5.7400 - val_accuracy: 0.0418\n",
      "Epoch 95/100\n",
      "35000/35000 [==============================] - 372s 11ms/step - loss: 5.7637 - accuracy: 0.0385 - val_loss: 5.7400 - val_accuracy: 0.0418\n",
      "Epoch 96/100\n",
      "35000/35000 [==============================] - 372s 11ms/step - loss: 5.7616 - accuracy: 0.0387 - val_loss: 5.7401 - val_accuracy: 0.0418\n",
      "Epoch 97/100\n",
      "35000/35000 [==============================] - 371s 11ms/step - loss: 5.7688 - accuracy: 0.0381 - val_loss: 5.7398 - val_accuracy: 0.0418\n",
      "Epoch 98/100\n",
      "35000/35000 [==============================] - 371s 11ms/step - loss: 5.7636 - accuracy: 0.0380 - val_loss: 5.7400 - val_accuracy: 0.0418\n",
      "Epoch 99/100\n",
      "35000/35000 [==============================] - 372s 11ms/step - loss: 5.7655 - accuracy: 0.0382 - val_loss: 5.7400 - val_accuracy: 0.0418\n",
      "Epoch 100/100\n",
      "35000/35000 [==============================] - 371s 11ms/step - loss: 5.7654 - accuracy: 0.0384 - val_loss: 5.7399 - val_accuracy: 0.0418\n"
     ]
    }
   ],
   "source": [
    "history = model2.fit(X, y, \n",
    "    epochs=100, \n",
    "    verbose=1,\n",
    "    callbacks=[ModelCheckpointCb, LearningRateSchedulerCb],\n",
    "    batch_size=16, \n",
    "    validation_split=0.3, \n",
    "#     validation_data=(X_test, y_test), \n",
    "    shuffle=True, \n",
    "#     class_weight=None,\n",
    "#     sample_weight=None, \n",
    "#     initial_epoch=0, \n",
    "#     steps_per_epoch=None,\n",
    "#     validation_steps=None, \n",
    "#     validation_batch_size=None, \n",
    "#     validation_freq=1,\n",
    "#     max_queue_size=10, \n",
    "#     workers=1, \n",
    "#     use_multiprocessing=False\n",
    ")"
   ]
  },
  {
   "cell_type": "code",
   "execution_count": 114,
   "id": "36cc076f",
   "metadata": {},
   "outputs": [
    {
     "data": {
      "image/png": "[encoded data removed]",
      "text/plain": [
       "<Figure size 432x288 with 1 Axes>"
      ]
     },
     "metadata": {
      "needs_background": "light"
     },
     "output_type": "display_data"
    }
   ],
   "source": [
    "plot_graphs(history, 'val_loss')"
   ]
  },
  {
   "cell_type": "code",
   "execution_count": 105,
   "id": "7e76c0e9",
   "metadata": {},
   "outputs": [
    {
     "data": {
      "image/png": "[encoded data removed]",
      "text/plain": [
       "<Figure size 432x288 with 1 Axes>"
      ]
     },
     "metadata": {
      "needs_background": "light"
     },
     "output_type": "display_data"
    }
   ],
   "source": [
    "plot_graphs(history, 'val_accuracy')"
   ]
  },
  {
   "cell_type": "code",
   "execution_count": 26,
   "id": "491f716e",
   "metadata": {},
   "outputs": [
    {
     "data": {
      "image/png": "[encoded data removed]",
      "text/plain": [
       "<Figure size 432x288 with 1 Axes>"
      ]
     },
     "metadata": {
      "needs_background": "light"
     },
     "output_type": "display_data"
    }
   ],
   "source": [
    "plot_graphs(history, 'val_loss')"
   ]
  },
  {
   "cell_type": "code",
   "execution_count": 27,
   "id": "190dbfe7",
   "metadata": {},
   "outputs": [
    {
     "name": "stderr",
     "output_type": "stream",
     "text": [
      "WARNING:absl:Found untraced functions such as lstm_cell_layer_call_and_return_conditional_losses, lstm_cell_layer_call_fn, lstm_cell_layer_call_fn, lstm_cell_layer_call_and_return_conditional_losses, lstm_cell_layer_call_and_return_conditional_losses while saving (showing 5 of 5). These functions will not be directly callable after loading.\n",
      "WARNING:absl:Found untraced functions such as lstm_cell_layer_call_and_return_conditional_losses, lstm_cell_layer_call_fn, lstm_cell_layer_call_fn, lstm_cell_layer_call_and_return_conditional_losses, lstm_cell_layer_call_and_return_conditional_losses while saving (showing 5 of 5). These functions will not be directly callable after loading.\n"
     ]
    },
    {
     "name": "stdout",
     "output_type": "stream",
     "text": [
      "INFO:tensorflow:Assets written to: lstm1layer_model/assets\n"
     ]
    },
    {
     "name": "stderr",
     "output_type": "stream",
     "text": [
      "INFO:tensorflow:Assets written to: lstm1layer_model/assets\n"
     ]
    }
   ],
   "source": [
    "model2.save('lstm1layer_model')"
   ]
  },
  {
   "cell_type": "markdown",
   "id": "c9c9ced7",
   "metadata": {},
   "source": [
    "## 5. Инференс полученной модели"
   ]
  },
  {
   "cell_type": "code",
   "execution_count": 102,
   "id": "e95d8e20",
   "metadata": {},
   "outputs": [
    {
     "name": "stdout",
     "output_type": "stream",
     "text": [
      "приветствие затянулось на несколько вродители,\n",
      "им зае призиденторта согорами в сосесуми рроведе с сосрийской ке просева об пнобо с общела он вобороднтое влодедать в инсотия чесьдае в сосрий сазорунотти в соссий сакали проведа пода саков\n"
     ]
    }
   ],
   "source": [
    "# Для обычного токенайзера\n",
    "composition = \"приветствие затянулось на несколько \"\n",
    "next_words = 200\n",
    "  \n",
    "for _ in range(next_words):\n",
    "    token_list = tokenizer.texts_to_sequences([composition])[0]\n",
    "    token_list = pad_sequences([token_list], maxlen=window_length-1, padding='pre')\n",
    "    token_list = token_list.reshape((1,window_length-1,1))\n",
    "    predicted = np.argmax(model.predict(token_list), axis=-1)\n",
    "    output_character = tokenizer.sequences_to_texts([predicted])[0]\n",
    "    composition += output_character\n",
    "print(composition)"
   ]
  },
  {
   "cell_type": "code",
   "execution_count": 120,
   "id": "84563b64",
   "metadata": {},
   "outputs": [
    {
     "data": {
      "text/plain": [
       "['<PAD>']"
      ]
     },
     "execution_count": 120,
     "metadata": {},
     "output_type": "execute_result"
    }
   ],
   "source": [
    "output_character"
   ]
  },
  {
   "cell_type": "code",
   "execution_count": 72,
   "id": "85a3ccf5",
   "metadata": {},
   "outputs": [
    {
     "data": {
      "text/plain": [
       "[\"не планирует передислоцировать наблюдательные пункты в идлибской зоне деэскалации , при этом турция продолжит отправлять военных и бронетехнику в этот район 'в целях защиты мирного населения' . ка\"]"
      ]
     },
     "execution_count": 72,
     "metadata": {},
     "output_type": "execute_result"
    }
   ],
   "source": [
    "bpe.decode([list(X[522].reshape((max_sequence_length-1)))])"
   ]
  },
  {
   "cell_type": "code",
   "execution_count": 28,
   "id": "f2917777",
   "metadata": {},
   "outputs": [
    {
     "name": "stdout",
     "output_type": "stream",
     "text": [
      "не планирует передислоцировать наблюдательные пункты в идлибской зоне деэскалации , при этом турция продолжит отправлять военных и бронетехнику в этот район 'в целях защиты мирного населения' . ка,,,,,,,,,,,,,,,,,,,,,,,,,,,,,,,,,,,,,,,,,,,,,,,,,,,,,,,,,,,,,,,,,,,,,,,,,,,,,,,,,,,,,,,,,,,,,,,,,,,,,,,,,,,,,,,,,,,,,,,,,,,,,,,,,,,,,,,,,,,,,,,,,,,,,,,,,,,,,,,,,,,,,,,,,,,,,,,,,,,,,,,,,,,,,,,,,,,,,,,,\n"
     ]
    }
   ],
   "source": [
    "# Для bpe\n",
    "composition = \"не планирует передислоцировать наблюдательные пункты в идлибской зоне деэскалации , при этом турция продолжит отправлять военных и бронетехнику в этот район 'в целях защиты мирного населения' . ка\"\n",
    "next_words = 200\n",
    "  \n",
    "for _ in range(next_words):\n",
    "    token_list = bpe.encode(composition)\n",
    "    token_list = pad_sequences([token_list], maxlen=max_sequence_length-1, padding='pre', truncating=\"pre\")\n",
    "    token_list = token_list.reshape((1,max_sequence_length-1,1))\n",
    "    predicted = np.argmax(model2.predict(token_list), axis=-1)\n",
    "    output_character = bpe.decode([predicted])[0]\n",
    "    composition += output_character\n",
    "print(composition)"
   ]
  },
  {
   "cell_type": "code",
   "execution_count": 57,
   "id": "136c92b9",
   "metadata": {},
   "outputs": [
    {
     "data": {
      "text/plain": [
       "[[126, 341, 322, 6, 90, 10, 20, 156, 603, 71, 97, 109, 448]]"
      ]
     },
     "execution_count": 57,
     "metadata": {},
     "output_type": "execute_result"
    }
   ],
   "source": [
    "bpe.encode([\"приветствие затянулось на несколько \"])"
   ]
  },
  {
   "cell_type": "code",
   "execution_count": 44,
   "id": "6dd52d8c",
   "metadata": {},
   "outputs": [],
   "source": [
    "import random"
   ]
  },
  {
   "cell_type": "code",
   "execution_count": 45,
   "id": "943b548c",
   "metadata": {},
   "outputs": [],
   "source": [
    "def return_ordered_indices(ar):\n",
    "    d = {i:v for i,v in enumerate(ar)}\n",
    "    return sorted(d, key=d.get, reverse=True)"
   ]
  },
  {
   "cell_type": "code",
   "execution_count": 46,
   "id": "a25fe91d",
   "metadata": {},
   "outputs": [],
   "source": [
    "# ensures always sums to 1\n",
    "def normalize_softmax(ar):\n",
    "    s = sum(ar)\n",
    "    if (s!=1):\n",
    "        ar[0] += 1-s\n",
    "    return ar\n",
    "        "
   ]
  },
  {
   "cell_type": "code",
   "execution_count": 47,
   "id": "c23caef4",
   "metadata": {},
   "outputs": [
    {
     "name": "stdout",
     "output_type": "stream",
     "text": [
      "как было сказано осенее с онкет пантоти и ресетиеее ес о осессон в паттеле онти портовония сакомо презедлитеви презисселе нерари соргорам сосриий,\n",
      "подономо по накраветения подоваи полодать по накогния сообщал возении,\n"
     ]
    }
   ],
   "source": [
    "composition = \"как было сказано \"\n",
    "next_words = 200\n",
    "T = 2 # токены из top-T будут случайно выбираться\n",
    "temperature = 1 # параметр сглаживания распределения выбранных токенов\n",
    "  \n",
    "for _ in range(next_words):\n",
    "    token_list = tokenizer.texts_to_sequences([composition])[0]\n",
    "    token_list = pad_sequences([token_list], maxlen=window_length-1, padding='pre')\n",
    "    token_list = token_list.reshape((1,window_length-1,1))\n",
    "    \n",
    "    output = model2.predict(token_list)\n",
    "    topmost_indicies = return_ordered_indices(output[0, :])[:T]\n",
    "    probs = tf.nn.softmax(output[0, topmost_indicies] /  temperature).numpy()\n",
    "    probs = normalize_softmax(probs)\n",
    "    predicted = np.random.choice(topmost_indicies, p=probs)\n",
    "#     predicted = topmost_indicies[0]\n",
    "    output_character = tokenizer.sequences_to_texts([[predicted]])[0]\n",
    "    composition += output_character\n",
    "print(composition)"
   ]
  },
  {
   "cell_type": "code",
   "execution_count": null,
   "id": "8f8776d4",
   "metadata": {},
   "outputs": [],
   "source": []
  }
 ],
 "metadata": {
  "kernelspec": {
   "display_name": "Python 3.8.5 64-bit ('text_generation')",
   "language": "python",
   "name": "python38564bitvenvvenv5b01357faf914deaa22a148ccdaf04c5"
  },
  "language_info": {
   "codemirror_mode": {
    "name": "ipython",
    "version": 3
   },
   "file_extension": ".py",
   "mimetype": "text/x-python",
   "name": "python",
   "nbconvert_exporter": "python",
   "pygments_lexer": "ipython3",
   "version": "3.8.5"
  }
 },
 "nbformat": 4,
 "nbformat_minor": 5
}
