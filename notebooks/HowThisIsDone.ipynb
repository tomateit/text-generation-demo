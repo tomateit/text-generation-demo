{
 "cells": [
  {
   "cell_type": "markdown",
   "id": "cd21aa9d",
   "metadata": {},
   "source": [
    "# Генерация текста с помощью LSTM-сетей"
   ]
  },
  {
   "cell_type": "markdown",
   "id": "92eb07be",
   "metadata": {},
   "source": [
    "Сеть способна выучить распределение символов в последовательностях\n",
    "\n",
    "\n",
    "Датасет формируем проходясь окном по текстовому корпусу, задача сети - предсказывать следующий символ на основании нескольких предыдущих.\n",
    "Данный подход можно улучшить, используя только отдельные предложения с паддингами."
   ]
  },
  {
   "cell_type": "code",
   "execution_count": 2,
   "id": "6178cf5c",
   "metadata": {},
   "outputs": [],
   "source": [
    "import tensorflow as tf\n",
    "import numpy as np\n",
    "\n",
    "from tensorflow.keras.preprocessing.sequence import pad_sequences\n",
    "from tensorflow.keras.preprocessing.text import Tokenizer\n",
    "from tensorflow.keras.models import Sequential\n",
    "from tensorflow.keras.layers import Dense, Embedding, LSTM, Bidirectional, Dropout\n",
    "from tensorflow.keras.callbacks import ModelCheckpoint, LearningRateScheduler\n",
    "from tensorflow.keras.utils import to_categorical"
   ]
  },
  {
   "cell_type": "code",
   "execution_count": 5,
   "id": "41eaa7f1",
   "metadata": {},
   "outputs": [],
   "source": [
    "import pandas as pd\n",
    "from tqdm import tqdm"
   ]
  },
  {
   "cell_type": "markdown",
   "id": "2a3ba6b0",
   "metadata": {},
   "source": [
    "### 0. Получение данных для обучения"
   ]
  },
  {
   "cell_type": "markdown",
   "id": "8add268d",
   "metadata": {},
   "source": [
    "Для обучения используется датасет российских новостей, который был сохранён в файл `text_corpus.parquet` со следующими параметрами:"
   ]
  },
  {
   "cell_type": "code",
   "execution_count": 12,
   "id": "7a5bbebe",
   "metadata": {},
   "outputs": [],
   "source": [
    "# data.to_parquet(\"text_corpus.parquet\", engine=\"pyarrow\", compression=\"gzip\", index=False)"
   ]
  },
  {
   "cell_type": "code",
   "execution_count": 14,
   "id": "e398246c",
   "metadata": {},
   "outputs": [],
   "source": [
    "data = pd.read_parquet(\"text_corpus.parquet\", engine=\"pyarrow\")"
   ]
  },
  {
   "cell_type": "code",
   "execution_count": 15,
   "id": "12b655ff",
   "metadata": {},
   "outputs": [
    {
     "data": {
      "text/html": [
       "<div>\n",
       "<style scoped>\n",
       "    .dataframe tbody tr th:only-of-type {\n",
       "        vertical-align: middle;\n",
       "    }\n",
       "\n",
       "    .dataframe tbody tr th {\n",
       "        vertical-align: top;\n",
       "    }\n",
       "\n",
       "    .dataframe thead th {\n",
       "        text-align: right;\n",
       "    }\n",
       "</style>\n",
       "<table border=\"1\" class=\"dataframe\">\n",
       "  <thead>\n",
       "    <tr style=\"text-align: right;\">\n",
       "      <th></th>\n",
       "      <th>text</th>\n",
       "    </tr>\n",
       "  </thead>\n",
       "  <tbody>\n",
       "    <tr>\n",
       "      <th>0</th>\n",
       "      <td>ФСБ обнародовала оперативную видеосъемку задер...</td>\n",
       "    </tr>\n",
       "    <tr>\n",
       "      <th>1</th>\n",
       "      <td>Министр образования и науки Ольга Васильева сч...</td>\n",
       "    </tr>\n",
       "    <tr>\n",
       "      <th>2</th>\n",
       "      <td>Россия и Турция не пересматривали достигнутые ...</td>\n",
       "    </tr>\n",
       "    <tr>\n",
       "      <th>3</th>\n",
       "      <td>Исполнительный директор - заместитель гендирек...</td>\n",
       "    </tr>\n",
       "    <tr>\n",
       "      <th>4</th>\n",
       "      <td>Президент США Дональд Трамп сегодня заклеймил ...</td>\n",
       "    </tr>\n",
       "  </tbody>\n",
       "</table>\n",
       "</div>"
      ],
      "text/plain": [
       "                                                text\n",
       "0  ФСБ обнародовала оперативную видеосъемку задер...\n",
       "1  Министр образования и науки Ольга Васильева сч...\n",
       "2  Россия и Турция не пересматривали достигнутые ...\n",
       "3  Исполнительный директор - заместитель гендирек...\n",
       "4  Президент США Дональд Трамп сегодня заклеймил ..."
      ]
     },
     "execution_count": 15,
     "metadata": {},
     "output_type": "execute_result"
    }
   ],
   "source": [
    "data.head()"
   ]
  },
  {
   "cell_type": "markdown",
   "id": "66df1c98",
   "metadata": {},
   "source": [
    "### 1. Вспомогательные функции:\n",
    "+ Визуализация процесса обучения\n",
    "    + Сможем посмотреть, как меняется качество с течением времени.\n",
    "+ Коллбек ModelCheckpoint\n",
    "    + Процесс обучения LSTM сетей достаточно длительный. Будет обидно, если из-за непредвиденного сбоя потеряется прогресс за многие часы обучения.\n",
    "+ Колбек динамической подстройки размера батча и learning rate\n",
    "    + Подстраивать LR это уже стандартная практика, а я хочу ещё и размер батча менять: предположу, что большой батч позволит дать некое \"обобщённое\" представление о распределении символов, а маленький батч улучшит \"грамотность\".\n",
    "\n"
   ]
  },
  {
   "cell_type": "code",
   "execution_count": 17,
   "id": "9a0f23d6",
   "metadata": {},
   "outputs": [],
   "source": [
    "import matplotlib.pyplot as plt\n",
    "\n",
    "\n",
    "def plot_graphs(history, string):\n",
    "    plt.plot(history.history[string])\n",
    "    plt.xlabel(\"Epochs\")\n",
    "    plt.ylabel(string)\n",
    "    plt.show()"
   ]
  },
  {
   "cell_type": "code",
   "execution_count": 18,
   "id": "a2e6f102",
   "metadata": {},
   "outputs": [],
   "source": [
    "ModelCheckpointCb = ModelCheckpoint(\n",
    "    filepath=\"./model2_checkpoints/\", \n",
    "    monitor='val_loss', \n",
    "    verbose=0, \n",
    "    save_best_only=True,\n",
    "    save_weights_only=True, \n",
    "    mode='auto', \n",
    "    save_freq='epoch',\n",
    "    options=None\n",
    ")"
   ]
  },
  {
   "cell_type": "code",
   "execution_count": 19,
   "id": "61186228",
   "metadata": {},
   "outputs": [],
   "source": [
    "def scheduler(epoch, lr):\n",
    "    if epoch < 30:\n",
    "        return lr\n",
    "    else:\n",
    "        return lr * tf.math.exp(-0.1)\n",
    "\n",
    "\n",
    "LearningRateSchedulerCb = LearningRateScheduler(\n",
    "    scheduler, \n",
    "    verbose=0\n",
    ")\n"
   ]
  },
  {
   "cell_type": "code",
   "execution_count": 9,
   "id": "edc1c152",
   "metadata": {
    "jupyter": {
     "source_hidden": true
    }
   },
   "outputs": [],
   "source": [
    "# весь текст одной \"портянкой\", чтобы заранее оценить, какие символы могут нам попадаться\n",
    "# raw_text = \" \".join(data.text)\n",
    "# chars = sorted(list(set(raw_text)))\n",
    "# chars"
   ]
  },
  {
   "cell_type": "markdown",
   "id": "5e0ad4c5",
   "metadata": {},
   "source": [
    "### 3. Предобработка и создание датасета"
   ]
  },
  {
   "cell_type": "markdown",
   "id": "fb1ed568",
   "metadata": {},
   "source": [
    "Для тренировки LSTM модели понадобится немного поработать с форматами"
   ]
  },
  {
   "cell_type": "code",
   "execution_count": null,
   "id": "39c3abe3",
   "metadata": {},
   "outputs": [],
   "source": []
  },
  {
   "cell_type": "code",
   "execution_count": null,
   "id": "3dc4bb4f",
   "metadata": {},
   "outputs": [],
   "source": []
  },
  {
   "cell_type": "code",
   "execution_count": null,
   "id": "94014422",
   "metadata": {},
   "outputs": [],
   "source": []
  },
  {
   "cell_type": "markdown",
   "id": "dfc80815",
   "metadata": {},
   "source": [
    "#### 3.1 Входные данные char-level с паддингами"
   ]
  },
  {
   "cell_type": "markdown",
   "id": "b6dae7cf",
   "metadata": {},
   "source": [
    "По результатам опытов показали себя не очень хорошо"
   ]
  },
  {
   "cell_type": "code",
   "execution_count": 10,
   "id": "d31deb57",
   "metadata": {},
   "outputs": [],
   "source": [
    "tokenizer = Tokenizer(\n",
    "    num_words=None, # не ограничиваем количество токенов\n",
    "    filters='\\t\\xa0•…–—‘’“”«»', # отфильтровываю датасет-специфичный мусор\n",
    "    lower=True,\n",
    "    split=' ', \n",
    "    char_level=True, # ставим флаг посимвольного кодирования, иначе словарь слишком велик \n",
    "    oov_token=\"<OOV>\",\n",
    ")"
   ]
  },
  {
   "cell_type": "code",
   "execution_count": 37,
   "id": "39457e71",
   "metadata": {},
   "outputs": [],
   "source": [
    "# потребуется разделить тексты на предложения, которые потом будут доводиться паддингом до нужной длины\n",
    "from razdel import sentenize\n",
    "corpus = [text for t in data.text for text in t.split(\"\\n\")]\n",
    "sentences = [sent.text for text in corpus for sent in sentenize(text)]"
   ]
  },
  {
   "cell_type": "code",
   "execution_count": 72,
   "id": "400f876f",
   "metadata": {},
   "outputs": [],
   "source": [
    "def apply_tokenizer_with_moving_window(sents):\n",
    "    sequences = []\n",
    "    for line in sents:\n",
    "        token_list = tokenizer.texts_to_sequences(line)\n",
    "        for i in range(1, len(token_list)):\n",
    "            n_gram_sequence = token_list[:i+1]\n",
    "            sequences.append(n_gram_sequence)\n",
    "    return sequences"
   ]
  },
  {
   "cell_type": "code",
   "execution_count": null,
   "id": "183169dd",
   "metadata": {},
   "outputs": [],
   "source": [
    "tokenizer.fit_on_texts(corpus)\n",
    "total_words = len(tokenizer.word_index) + 1\n",
    "print(total_words)"
   ]
  },
  {
   "cell_type": "code",
   "execution_count": 64,
   "id": "3217b906",
   "metadata": {},
   "outputs": [],
   "source": [
    "# Сразу создам отложенную выборку для валидации\n",
    "train_sentences = sentences[3000:]\n",
    "test_sentences = sentences[:3000]"
   ]
  },
  {
   "cell_type": "code",
   "execution_count": 73,
   "id": "eac02c1f",
   "metadata": {},
   "outputs": [],
   "source": [
    "train_sequences = apply_tokenizer_with_moving_window(train_sentences)\n",
    "test_sequences = apply_tokenizer_with_moving_window(test_sentences)"
   ]
  },
  {
   "cell_type": "code",
   "execution_count": 44,
   "id": "02b016e7",
   "metadata": {},
   "outputs": [
    {
     "data": {
      "image/png": "[encoded data removed]",
      "text/plain": [
       "<Figure size 432x288 with 1 Axes>"
      ]
     },
     "metadata": {
      "needs_background": "light"
     },
     "output_type": "display_data"
    }
   ],
   "source": [
    "# Оценим длины предложений, чтобы подобрать подходящий размер последовательности\n",
    "sentences_lengthes = list(map(len, sentences))\n",
    "\n",
    "plt.hist(sentences_lengthes)\n",
    "plt.title(\"Распределение длин предложений\")\n",
    "plt.xlabel(\"Длина предложения в символах\")\n",
    "plt.show()"
   ]
  },
  {
   "cell_type": "code",
   "execution_count": 54,
   "id": "520f3949",
   "metadata": {},
   "outputs": [
    {
     "name": "stdout",
     "output_type": "stream",
     "text": [
      "300\n"
     ]
    }
   ],
   "source": [
    "# выбираем окно для паддинга\n",
    "# window_length = max(sentences_lengthes)\n",
    "window_length = 300 # можно выбрать меньше и обрезать\n",
    "print(window_length)"
   ]
  },
  {
   "cell_type": "code",
   "execution_count": 74,
   "id": "0fd019cb",
   "metadata": {},
   "outputs": [],
   "source": [
    "# train_sequences = np.array(pad_sequences(train_sequences, maxlen=window_length, padding='pre'))\n",
    "# test_sequences = np.array(pad_sequences(test_sequences, maxlen=window_length, padding='pre'))"
   ]
  },
  {
   "cell_type": "code",
   "execution_count": 76,
   "id": "ee2f339c",
   "metadata": {},
   "outputs": [],
   "source": [
    "# отделю последнюю колонку символов в качестве целевой переменной \n",
    "# и закондирую\n",
    "X_train, y_train = train_sequences[:,:-1], to_categorical(train_sequences[:,-1], num_classes=total_words)\n",
    "X_test, y_test = test_sequences[:,:-1], to_categorical(test_sequences[:,-1], num_classes=total_words)"
   ]
  },
  {
   "cell_type": "markdown",
   "id": "5e84925f",
   "metadata": {},
   "source": [
    "#### 3.2 Без паддингов, скользящим окном по сплошной портянке"
   ]
  },
  {
   "cell_type": "markdown",
   "id": "1371db32",
   "metadata": {},
   "source": [
    "Также делить на train и test не буду, а поставлю параметр модели."
   ]
  },
  {
   "cell_type": "code",
   "execution_count": 24,
   "id": "4983867f",
   "metadata": {},
   "outputs": [],
   "source": [
    "corpus = \"\\n\".join(data.text.to_list())"
   ]
  },
  {
   "cell_type": "code",
   "execution_count": 25,
   "id": "9821d1f2",
   "metadata": {},
   "outputs": [
    {
     "name": "stdout",
     "output_type": "stream",
     "text": [
      "65\n"
     ]
    }
   ],
   "source": [
    "tokenizer.fit_on_texts([corpus])\n",
    "total_words = len(tokenizer.word_index) + 1\n",
    "print(total_words)"
   ]
  },
  {
   "cell_type": "code",
   "execution_count": 12,
   "id": "9f4dc237",
   "metadata": {},
   "outputs": [],
   "source": [
    "window_length = 100"
   ]
  },
  {
   "cell_type": "code",
   "execution_count": 33,
   "id": "48a8a056",
   "metadata": {},
   "outputs": [],
   "source": [
    "dataset = np.array(tokenizer.texts_to_sequences([corpus])[0])# получаем плоский вектор (1, количество токенов)"
   ]
  },
  {
   "cell_type": "code",
   "execution_count": 39,
   "id": "a604dcd0",
   "metadata": {},
   "outputs": [],
   "source": [
    "# так как я потом его хочу свернуть в строки по 100 токенов, \n",
    "# нужно, чтобы он был выравнен (отрежу от конца лишнее)\n",
    "# dataset = dataset[:-(len(dataset)%window_length)]"
   ]
  },
  {
   "cell_type": "code",
   "execution_count": 34,
   "id": "2a273978",
   "metadata": {},
   "outputs": [
    {
     "data": {
      "text/plain": [
       "1134656"
      ]
     },
     "execution_count": 34,
     "metadata": {},
     "output_type": "execute_result"
    }
   ],
   "source": [
    "len(dataset)"
   ]
  },
  {
   "cell_type": "code",
   "execution_count": 35,
   "id": "2e44250e",
   "metadata": {},
   "outputs": [
    {
     "name": "stderr",
     "output_type": "stream",
     "text": [
      "100%|██████████| 1134556/1134556 [00:02<00:00, 444166.04it/s]\n"
     ]
    }
   ],
   "source": [
    "sequences = np.ndarray((len(dataset), 100))\n",
    "for i in tqdm(range(len(dataset)-100)):\n",
    "    sequences[i, :] = dataset[i:i+100]\n",
    "dataset = sequences"
   ]
  },
  {
   "cell_type": "markdown",
   "id": "090366de",
   "metadata": {},
   "source": [
    "### 3.3 Токенизация не посимвольная, а BPE "
   ]
  },
  {
   "cell_type": "markdown",
   "id": "702d1e0c",
   "metadata": {},
   "source": [
    "BPE токенизация посредством yttm эффективна, но потребуется поработать с файлом"
   ]
  },
  {
   "cell_type": "code",
   "execution_count": 34,
   "id": "d354546d",
   "metadata": {},
   "outputs": [],
   "source": [
    "import youtokentome as yttm\n",
    "import re"
   ]
  },
  {
   "cell_type": "code",
   "execution_count": 47,
   "id": "37a52639",
   "metadata": {},
   "outputs": [],
   "source": [
    "total_words = 6000\n",
    "max_sequence_length = 80"
   ]
  },
  {
   "cell_type": "code",
   "execution_count": 35,
   "id": "d3bed9f9",
   "metadata": {},
   "outputs": [],
   "source": [
    "corpus = \" \\n\".join(data.text.to_list()).lower()\n",
    "# Хочу во-первых отделить всю пунктуацию от слов пробелом\n",
    "corpus = \" \".join(re.findall(r\"[\\w']+|[.,!?;\\n]\", corpus))"
   ]
  },
  {
   "cell_type": "code",
   "execution_count": 23,
   "id": "df7b5399",
   "metadata": {},
   "outputs": [],
   "source": [
    "train_data_path = \"yttm_train_data.txt\"\n",
    "bpe_model_path = \"bpe.yttm\""
   ]
  },
  {
   "cell_type": "code",
   "execution_count": 36,
   "id": "c981f4f3",
   "metadata": {},
   "outputs": [],
   "source": [
    "with open(train_data_path, \"w\") as _file:\n",
    "    _file.writelines(corpus)"
   ]
  },
  {
   "cell_type": "code",
   "execution_count": 37,
   "id": "40143b37",
   "metadata": {},
   "outputs": [],
   "source": [
    "# Training model\n",
    "# (data, model, vocab_size, coverage, n_threads=-1, pad_id=0, unk_id=1, bos_id=2, eos_id=3)\n",
    "bpe = yttm.BPE.train(data=train_data_path, vocab_size=total_words, model=bpe_model_path)"
   ]
  },
  {
   "cell_type": "code",
   "execution_count": 38,
   "id": "360cb6f2",
   "metadata": {},
   "outputs": [],
   "source": [
    "# Loading model\n",
    "bpe = yttm.BPE(model=bpe_model_path)"
   ]
  },
  {
   "cell_type": "code",
   "execution_count": 39,
   "id": "f93f1a9b",
   "metadata": {},
   "outputs": [
    {
     "name": "stdout",
     "output_type": "stream",
     "text": [
      "<PAD> <UNK> <BOS> <EOS> ▁ о е и а н т с р в л к п д м у я ы г з б , ь ч й . х ж ' ц ю ш ф щ э ъ ? ё ! ; _ ▁п ▁с ▁в ▁, ст ни ра ро но ре на ▁о ко то ▁. ▁и ▁по го не де те ли ва ▁м за ны ▁на ль ка ри та ле ла ▁д во ве ▁б ти ци ▁со ви ▁ч ки ло ▁у ▁за ▁' да ть ен ми ▁а ▁не ▁ко сс ▁пре ет ру ся ди ▁про н\n"
     ]
    }
   ],
   "source": [
    "print(' '.join(bpe.vocab())[:300])"
   ]
  },
  {
   "cell_type": "code",
   "execution_count": 102,
   "id": "e43ae621",
   "metadata": {},
   "outputs": [],
   "source": [
    "# encode(self, \n",
    "#     sentences, \n",
    "#     output_type=yttm.OutputType.ID, \n",
    "#     bos=False, \n",
    "#     eos=False, \n",
    "#     reverse=False, \n",
    "#     dropout_prob=0)"
   ]
  },
  {
   "cell_type": "code",
   "execution_count": null,
   "id": "8785d642",
   "metadata": {},
   "outputs": [],
   "source": [
    "# from razdel import sentenize\n",
    "# corpus = [text for t in data.text for text in t.split(\"\\n\")]\n",
    "# sentences = [sent.text for text in corpus for sent in sentenize(text)]"
   ]
  },
  {
   "cell_type": "code",
   "execution_count": 40,
   "id": "4759b2ae",
   "metadata": {},
   "outputs": [],
   "source": []
  },
  {
   "cell_type": "code",
   "execution_count": 44,
   "id": "0a4c4b54",
   "metadata": {},
   "outputs": [
    {
     "data": {
      "text/plain": [
       "False"
      ]
     },
     "execution_count": 44,
     "metadata": {},
     "output_type": "execute_result"
    }
   ],
   "source": []
  },
  {
   "cell_type": "code",
   "execution_count": 48,
   "id": "50cfd9e8",
   "metadata": {},
   "outputs": [],
   "source": [
    "# dataset = np.ndarray((len(sentences), max_sequence_length))\n",
    "sequence = np.array(bpe.encode(corpus))\n",
    "# for idx, sent in enumerate(sentences):\n",
    "#     line = bpe.encode(sent)\n",
    "#     sequences.append(line)\n",
    "# dataset = pad_sequences(sequences, maxlen=max_sequence_length, padding='post', value=0)\n",
    "sequences = sequence[:-(len(sequence)%max_sequence_length)].reshape((len(sequence)//max_sequence_length, max_sequence_length))"
   ]
  },
  {
   "cell_type": "code",
   "execution_count": 49,
   "id": "42a74ab3",
   "metadata": {},
   "outputs": [
    {
     "data": {
      "text/plain": [
       "(116736, 80)"
      ]
     },
     "execution_count": 49,
     "metadata": {},
     "output_type": "execute_result"
    }
   ],
   "source": [
    "sequences.shape"
   ]
  },
  {
   "cell_type": "code",
   "execution_count": 58,
   "id": "b8807d38",
   "metadata": {},
   "outputs": [
    {
     "data": {
      "text/plain": [
       "numpy.int64"
      ]
     },
     "execution_count": 58,
     "metadata": {},
     "output_type": "execute_result"
    }
   ],
   "source": [
    "type(list(sequences[0,:])[0])"
   ]
  },
  {
   "cell_type": "code",
   "execution_count": 60,
   "id": "243e524a",
   "metadata": {},
   "outputs": [
    {
     "data": {
      "text/plain": [
       "['это триперекись ацетона , очень опасное инициирующее взрывчатое вещество , поясняет сотрудник на видео . в военных целях обнаруженное вещество не применяется из за высокой летучести и чувствительности к ударам , нагреванию и другим внешним воздействиям . процесс создания взрывных устройств на основе данного вещества']"
      ]
     },
     "execution_count": 60,
     "metadata": {},
     "output_type": "execute_result"
    }
   ],
   "source": [
    "bpe.decode([list(sequences[1,:])])"
   ]
  },
  {
   "cell_type": "code",
   "execution_count": 105,
   "id": "30c0bb98",
   "metadata": {},
   "outputs": [],
   "source": [
    "# dataset = dataset.astype(np.float32)"
   ]
  },
  {
   "cell_type": "markdown",
   "id": "de1e212f",
   "metadata": {},
   "source": [
    "------------------\n",
    "Собираем данные в нужные структуры"
   ]
  },
  {
   "cell_type": "code",
   "execution_count": 106,
   "id": "784a4a6e",
   "metadata": {},
   "outputs": [],
   "source": [
    "# dataset = dataset.reshape(((len(dataset)//window_length), window_length))"
   ]
  },
  {
   "cell_type": "code",
   "execution_count": 36,
   "id": "6e42fbbc",
   "metadata": {},
   "outputs": [],
   "source": [
    "X, y = dataset[:,:-1], to_categorical(dataset[:,-1], num_classes=total_words)"
   ]
  },
  {
   "cell_type": "code",
   "execution_count": 37,
   "id": "7f5c7313",
   "metadata": {},
   "outputs": [],
   "source": [
    "X = X.reshape((*X.shape, 1))"
   ]
  },
  {
   "cell_type": "code",
   "execution_count": 38,
   "id": "e3b58cc1",
   "metadata": {},
   "outputs": [
    {
     "data": {
      "text/plain": [
       "(1134656, 99, 1)"
      ]
     },
     "execution_count": 38,
     "metadata": {},
     "output_type": "execute_result"
    }
   ],
   "source": [
    "X.shape\n"
   ]
  },
  {
   "cell_type": "code",
   "execution_count": 39,
   "id": "1b8597d2",
   "metadata": {},
   "outputs": [
    {
     "data": {
      "text/plain": [
       "(1134656, 65)"
      ]
     },
     "execution_count": 39,
     "metadata": {},
     "output_type": "execute_result"
    }
   ],
   "source": [
    "y.shape"
   ]
  },
  {
   "cell_type": "markdown",
   "id": "91df19cf",
   "metadata": {},
   "source": [
    "## 4. Модель"
   ]
  },
  {
   "cell_type": "markdown",
   "id": "7b4b5bb2",
   "metadata": {},
   "source": [
    "В качестве модели будет применяться LSTM сеть с двумя слоями LSTM"
   ]
  },
  {
   "cell_type": "code",
   "execution_count": null,
   "id": "48d9e8fd",
   "metadata": {},
   "outputs": [],
   "source": [
    "model = Sequential()\n",
    "model.add(LSTM(128, input_shape=(X.shape[1], X.shape[2]), return_sequences=True))\n",
    "model.add(Dropout(0.2))\n",
    "model.add(LSTM(128))\n",
    "model.add(Dropout(0.2))\n",
    "model.add(Dense(y.shape[1], activation='softmax'))"
   ]
  },
  {
   "cell_type": "code",
   "execution_count": 50,
   "id": "fa5a7175",
   "metadata": {},
   "outputs": [],
   "source": [
    "model.compile(\n",
    "    loss='categorical_crossentropy', \n",
    "    optimizer='adam', \n",
    "    metrics=['accuracy']\n",
    ")"
   ]
  },
  {
   "cell_type": "code",
   "execution_count": 52,
   "id": "34dfae85",
   "metadata": {},
   "outputs": [
    {
     "name": "stdout",
     "output_type": "stream",
     "text": [
      "Model: \"sequential_2\"\n",
      "_________________________________________________________________\n",
      "Layer (type)                 Output Shape              Param #   \n",
      "=================================================================\n",
      "lstm_2 (LSTM)                (None, 99, 256)           264192    \n",
      "_________________________________________________________________\n",
      "dropout_2 (Dropout)          (None, 99, 256)           0         \n",
      "_________________________________________________________________\n",
      "lstm_3 (LSTM)                (None, 256)               525312    \n",
      "_________________________________________________________________\n",
      "dropout_3 (Dropout)          (None, 256)               0         \n",
      "_________________________________________________________________\n",
      "dense_2 (Dense)              (None, 65)                16705     \n",
      "=================================================================\n",
      "Total params: 806,209\n",
      "Trainable params: 806,209\n",
      "Non-trainable params: 0\n",
      "_________________________________________________________________\n"
     ]
    }
   ],
   "source": [
    "model.summary()"
   ]
  },
  {
   "cell_type": "code",
   "execution_count": 53,
   "id": "7ffdf404",
   "metadata": {},
   "outputs": [
    {
     "name": "stdout",
     "output_type": "stream",
     "text": [
      " 734/1589 [============>.................] - ETA: 29:08 - loss: 3.0341 - accuracy: 0.1548"
     ]
    },
    {
     "ename": "KeyboardInterrupt",
     "evalue": "",
     "output_type": "error",
     "traceback": [
      "\u001b[0;31m---------------------------------------------------------------------------\u001b[0m",
      "\u001b[0;31mKeyboardInterrupt\u001b[0m                         Traceback (most recent call last)",
      "\u001b[0;32m<ipython-input-53-bce5f3b751d1>\u001b[0m in \u001b[0;36m<module>\u001b[0;34m\u001b[0m\n\u001b[0;32m----> 1\u001b[0;31m history = model.fit(X, y, \n\u001b[0m\u001b[1;32m      2\u001b[0m     \u001b[0mepochs\u001b[0m\u001b[0;34m=\u001b[0m\u001b[0;36m1\u001b[0m\u001b[0;34m,\u001b[0m\u001b[0;34m\u001b[0m\u001b[0;34m\u001b[0m\u001b[0m\n\u001b[1;32m      3\u001b[0m     \u001b[0mverbose\u001b[0m\u001b[0;34m=\u001b[0m\u001b[0;36m1\u001b[0m\u001b[0;34m,\u001b[0m\u001b[0;34m\u001b[0m\u001b[0;34m\u001b[0m\u001b[0m\n\u001b[1;32m      4\u001b[0m     \u001b[0mcallbacks\u001b[0m\u001b[0;34m=\u001b[0m\u001b[0;34m[\u001b[0m\u001b[0mModelCheckpointCb\u001b[0m\u001b[0;34m]\u001b[0m\u001b[0;34m,\u001b[0m\u001b[0;34m\u001b[0m\u001b[0;34m\u001b[0m\u001b[0m\n\u001b[1;32m      5\u001b[0m     \u001b[0mbatch_size\u001b[0m\u001b[0;34m=\u001b[0m\u001b[0;36m500\u001b[0m\u001b[0;34m,\u001b[0m\u001b[0;34m\u001b[0m\u001b[0;34m\u001b[0m\u001b[0m\n",
      "\u001b[0;32m~/.local/share/miniconda3/lib/python3.8/site-packages/tensorflow/python/keras/engine/training.py\u001b[0m in \u001b[0;36mfit\u001b[0;34m(self, x, y, batch_size, epochs, verbose, callbacks, validation_split, validation_data, shuffle, class_weight, sample_weight, initial_epoch, steps_per_epoch, validation_steps, validation_batch_size, validation_freq, max_queue_size, workers, use_multiprocessing)\u001b[0m\n\u001b[1;32m   1098\u001b[0m                 _r=1):\n\u001b[1;32m   1099\u001b[0m               \u001b[0mcallbacks\u001b[0m\u001b[0;34m.\u001b[0m\u001b[0mon_train_batch_begin\u001b[0m\u001b[0;34m(\u001b[0m\u001b[0mstep\u001b[0m\u001b[0;34m)\u001b[0m\u001b[0;34m\u001b[0m\u001b[0;34m\u001b[0m\u001b[0m\n\u001b[0;32m-> 1100\u001b[0;31m               \u001b[0mtmp_logs\u001b[0m \u001b[0;34m=\u001b[0m \u001b[0mself\u001b[0m\u001b[0;34m.\u001b[0m\u001b[0mtrain_function\u001b[0m\u001b[0;34m(\u001b[0m\u001b[0miterator\u001b[0m\u001b[0;34m)\u001b[0m\u001b[0;34m\u001b[0m\u001b[0;34m\u001b[0m\u001b[0m\n\u001b[0m\u001b[1;32m   1101\u001b[0m               \u001b[0;32mif\u001b[0m \u001b[0mdata_handler\u001b[0m\u001b[0;34m.\u001b[0m\u001b[0mshould_sync\u001b[0m\u001b[0;34m:\u001b[0m\u001b[0;34m\u001b[0m\u001b[0;34m\u001b[0m\u001b[0m\n\u001b[1;32m   1102\u001b[0m                 \u001b[0mcontext\u001b[0m\u001b[0;34m.\u001b[0m\u001b[0masync_wait\u001b[0m\u001b[0;34m(\u001b[0m\u001b[0;34m)\u001b[0m\u001b[0;34m\u001b[0m\u001b[0;34m\u001b[0m\u001b[0m\n",
      "\u001b[0;32m~/.local/share/miniconda3/lib/python3.8/site-packages/tensorflow/python/eager/def_function.py\u001b[0m in \u001b[0;36m__call__\u001b[0;34m(self, *args, **kwds)\u001b[0m\n\u001b[1;32m    826\u001b[0m     \u001b[0mtracing_count\u001b[0m \u001b[0;34m=\u001b[0m \u001b[0mself\u001b[0m\u001b[0;34m.\u001b[0m\u001b[0mexperimental_get_tracing_count\u001b[0m\u001b[0;34m(\u001b[0m\u001b[0;34m)\u001b[0m\u001b[0;34m\u001b[0m\u001b[0;34m\u001b[0m\u001b[0m\n\u001b[1;32m    827\u001b[0m     \u001b[0;32mwith\u001b[0m \u001b[0mtrace\u001b[0m\u001b[0;34m.\u001b[0m\u001b[0mTrace\u001b[0m\u001b[0;34m(\u001b[0m\u001b[0mself\u001b[0m\u001b[0;34m.\u001b[0m\u001b[0m_name\u001b[0m\u001b[0;34m)\u001b[0m \u001b[0;32mas\u001b[0m \u001b[0mtm\u001b[0m\u001b[0;34m:\u001b[0m\u001b[0;34m\u001b[0m\u001b[0;34m\u001b[0m\u001b[0m\n\u001b[0;32m--> 828\u001b[0;31m       \u001b[0mresult\u001b[0m \u001b[0;34m=\u001b[0m \u001b[0mself\u001b[0m\u001b[0;34m.\u001b[0m\u001b[0m_call\u001b[0m\u001b[0;34m(\u001b[0m\u001b[0;34m*\u001b[0m\u001b[0margs\u001b[0m\u001b[0;34m,\u001b[0m \u001b[0;34m**\u001b[0m\u001b[0mkwds\u001b[0m\u001b[0;34m)\u001b[0m\u001b[0;34m\u001b[0m\u001b[0;34m\u001b[0m\u001b[0m\n\u001b[0m\u001b[1;32m    829\u001b[0m       \u001b[0mcompiler\u001b[0m \u001b[0;34m=\u001b[0m \u001b[0;34m\"xla\"\u001b[0m \u001b[0;32mif\u001b[0m \u001b[0mself\u001b[0m\u001b[0;34m.\u001b[0m\u001b[0m_experimental_compile\u001b[0m \u001b[0;32melse\u001b[0m \u001b[0;34m\"nonXla\"\u001b[0m\u001b[0;34m\u001b[0m\u001b[0;34m\u001b[0m\u001b[0m\n\u001b[1;32m    830\u001b[0m       \u001b[0mnew_tracing_count\u001b[0m \u001b[0;34m=\u001b[0m \u001b[0mself\u001b[0m\u001b[0;34m.\u001b[0m\u001b[0mexperimental_get_tracing_count\u001b[0m\u001b[0;34m(\u001b[0m\u001b[0;34m)\u001b[0m\u001b[0;34m\u001b[0m\u001b[0;34m\u001b[0m\u001b[0m\n",
      "\u001b[0;32m~/.local/share/miniconda3/lib/python3.8/site-packages/tensorflow/python/eager/def_function.py\u001b[0m in \u001b[0;36m_call\u001b[0;34m(self, *args, **kwds)\u001b[0m\n\u001b[1;32m    853\u001b[0m       \u001b[0;31m# In this case we have created variables on the first call, so we run the\u001b[0m\u001b[0;34m\u001b[0m\u001b[0;34m\u001b[0m\u001b[0;34m\u001b[0m\u001b[0m\n\u001b[1;32m    854\u001b[0m       \u001b[0;31m# defunned version which is guaranteed to never create variables.\u001b[0m\u001b[0;34m\u001b[0m\u001b[0;34m\u001b[0m\u001b[0;34m\u001b[0m\u001b[0m\n\u001b[0;32m--> 855\u001b[0;31m       \u001b[0;32mreturn\u001b[0m \u001b[0mself\u001b[0m\u001b[0;34m.\u001b[0m\u001b[0m_stateless_fn\u001b[0m\u001b[0;34m(\u001b[0m\u001b[0;34m*\u001b[0m\u001b[0margs\u001b[0m\u001b[0;34m,\u001b[0m \u001b[0;34m**\u001b[0m\u001b[0mkwds\u001b[0m\u001b[0;34m)\u001b[0m  \u001b[0;31m# pylint: disable=not-callable\u001b[0m\u001b[0;34m\u001b[0m\u001b[0;34m\u001b[0m\u001b[0m\n\u001b[0m\u001b[1;32m    856\u001b[0m     \u001b[0;32melif\u001b[0m \u001b[0mself\u001b[0m\u001b[0;34m.\u001b[0m\u001b[0m_stateful_fn\u001b[0m \u001b[0;32mis\u001b[0m \u001b[0;32mnot\u001b[0m \u001b[0;32mNone\u001b[0m\u001b[0;34m:\u001b[0m\u001b[0;34m\u001b[0m\u001b[0;34m\u001b[0m\u001b[0m\n\u001b[1;32m    857\u001b[0m       \u001b[0;31m# Release the lock early so that multiple threads can perform the call\u001b[0m\u001b[0;34m\u001b[0m\u001b[0;34m\u001b[0m\u001b[0;34m\u001b[0m\u001b[0m\n",
      "\u001b[0;32m~/.local/share/miniconda3/lib/python3.8/site-packages/tensorflow/python/eager/function.py\u001b[0m in \u001b[0;36m__call__\u001b[0;34m(self, *args, **kwargs)\u001b[0m\n\u001b[1;32m   2940\u001b[0m       (graph_function,\n\u001b[1;32m   2941\u001b[0m        filtered_flat_args) = self._maybe_define_function(args, kwargs)\n\u001b[0;32m-> 2942\u001b[0;31m     return graph_function._call_flat(\n\u001b[0m\u001b[1;32m   2943\u001b[0m         filtered_flat_args, captured_inputs=graph_function.captured_inputs)  # pylint: disable=protected-access\n\u001b[1;32m   2944\u001b[0m \u001b[0;34m\u001b[0m\u001b[0m\n",
      "\u001b[0;32m~/.local/share/miniconda3/lib/python3.8/site-packages/tensorflow/python/eager/function.py\u001b[0m in \u001b[0;36m_call_flat\u001b[0;34m(self, args, captured_inputs, cancellation_manager)\u001b[0m\n\u001b[1;32m   1916\u001b[0m         and executing_eagerly):\n\u001b[1;32m   1917\u001b[0m       \u001b[0;31m# No tape is watching; skip to running the function.\u001b[0m\u001b[0;34m\u001b[0m\u001b[0;34m\u001b[0m\u001b[0;34m\u001b[0m\u001b[0m\n\u001b[0;32m-> 1918\u001b[0;31m       return self._build_call_outputs(self._inference_function.call(\n\u001b[0m\u001b[1;32m   1919\u001b[0m           ctx, args, cancellation_manager=cancellation_manager))\n\u001b[1;32m   1920\u001b[0m     forward_backward = self._select_forward_and_backward_functions(\n",
      "\u001b[0;32m~/.local/share/miniconda3/lib/python3.8/site-packages/tensorflow/python/eager/function.py\u001b[0m in \u001b[0;36mcall\u001b[0;34m(self, ctx, args, cancellation_manager)\u001b[0m\n\u001b[1;32m    553\u001b[0m       \u001b[0;32mwith\u001b[0m \u001b[0m_InterpolateFunctionError\u001b[0m\u001b[0;34m(\u001b[0m\u001b[0mself\u001b[0m\u001b[0;34m)\u001b[0m\u001b[0;34m:\u001b[0m\u001b[0;34m\u001b[0m\u001b[0;34m\u001b[0m\u001b[0m\n\u001b[1;32m    554\u001b[0m         \u001b[0;32mif\u001b[0m \u001b[0mcancellation_manager\u001b[0m \u001b[0;32mis\u001b[0m \u001b[0;32mNone\u001b[0m\u001b[0;34m:\u001b[0m\u001b[0;34m\u001b[0m\u001b[0;34m\u001b[0m\u001b[0m\n\u001b[0;32m--> 555\u001b[0;31m           outputs = execute.execute(\n\u001b[0m\u001b[1;32m    556\u001b[0m               \u001b[0mstr\u001b[0m\u001b[0;34m(\u001b[0m\u001b[0mself\u001b[0m\u001b[0;34m.\u001b[0m\u001b[0msignature\u001b[0m\u001b[0;34m.\u001b[0m\u001b[0mname\u001b[0m\u001b[0;34m)\u001b[0m\u001b[0;34m,\u001b[0m\u001b[0;34m\u001b[0m\u001b[0;34m\u001b[0m\u001b[0m\n\u001b[1;32m    557\u001b[0m               \u001b[0mnum_outputs\u001b[0m\u001b[0;34m=\u001b[0m\u001b[0mself\u001b[0m\u001b[0;34m.\u001b[0m\u001b[0m_num_outputs\u001b[0m\u001b[0;34m,\u001b[0m\u001b[0;34m\u001b[0m\u001b[0;34m\u001b[0m\u001b[0m\n",
      "\u001b[0;32m~/.local/share/miniconda3/lib/python3.8/site-packages/tensorflow/python/eager/execute.py\u001b[0m in \u001b[0;36mquick_execute\u001b[0;34m(op_name, num_outputs, inputs, attrs, ctx, name)\u001b[0m\n\u001b[1;32m     57\u001b[0m   \u001b[0;32mtry\u001b[0m\u001b[0;34m:\u001b[0m\u001b[0;34m\u001b[0m\u001b[0;34m\u001b[0m\u001b[0m\n\u001b[1;32m     58\u001b[0m     \u001b[0mctx\u001b[0m\u001b[0;34m.\u001b[0m\u001b[0mensure_initialized\u001b[0m\u001b[0;34m(\u001b[0m\u001b[0;34m)\u001b[0m\u001b[0;34m\u001b[0m\u001b[0;34m\u001b[0m\u001b[0m\n\u001b[0;32m---> 59\u001b[0;31m     tensors = pywrap_tfe.TFE_Py_Execute(ctx._handle, device_name, op_name,\n\u001b[0m\u001b[1;32m     60\u001b[0m                                         inputs, attrs, num_outputs)\n\u001b[1;32m     61\u001b[0m   \u001b[0;32mexcept\u001b[0m \u001b[0mcore\u001b[0m\u001b[0;34m.\u001b[0m\u001b[0m_NotOkStatusException\u001b[0m \u001b[0;32mas\u001b[0m \u001b[0me\u001b[0m\u001b[0;34m:\u001b[0m\u001b[0;34m\u001b[0m\u001b[0;34m\u001b[0m\u001b[0m\n",
      "\u001b[0;31mKeyboardInterrupt\u001b[0m: "
     ]
    }
   ],
   "source": [
    "history = model.fit(X, y, \n",
    "    epochs=1, \n",
    "    verbose=1,\n",
    "    callbacks=[ModelCheckpointCb],\n",
    "    batch_size=500, \n",
    "    validation_split=0.3, \n",
    "#     validation_data=(X_test, y_test), \n",
    "    shuffle=False, \n",
    "#     class_weight=None,\n",
    "#     sample_weight=None, \n",
    "#     initial_epoch=0, \n",
    "#     steps_per_epoch=None,\n",
    "#     validation_steps=None, \n",
    "#     validation_batch_size=None, \n",
    "#     validation_freq=1,\n",
    "#     max_queue_size=10, \n",
    "#     workers=1, \n",
    "#     use_multiprocessing=False\n",
    ")"
   ]
  },
  {
   "cell_type": "code",
   "execution_count": 40,
   "id": "86290cbf",
   "metadata": {},
   "outputs": [],
   "source": [
    "model2 = Sequential()\n",
    "model2.add(LSTM(64))\n",
    "model2.add(Dropout(0.1))\n",
    "model2.add(Dense(y.shape[1], activation='softmax'))"
   ]
  },
  {
   "cell_type": "code",
   "execution_count": 41,
   "id": "fd7a82ad",
   "metadata": {},
   "outputs": [],
   "source": [
    "model2.compile(\n",
    "    loss='categorical_crossentropy', \n",
    "    optimizer='adam', \n",
    "    metrics=['accuracy']\n",
    ")"
   ]
  },
  {
   "cell_type": "code",
   "execution_count": null,
   "id": "3055e75b",
   "metadata": {},
   "outputs": [],
   "source": []
  },
  {
   "cell_type": "code",
   "execution_count": 43,
   "id": "2e24dd96",
   "metadata": {},
   "outputs": [
    {
     "name": "stdout",
     "output_type": "stream",
     "text": [
      "Epoch 1/30\n",
      "24821/24821 [==============================] - 704s 28ms/step - loss: 2.6530 - accuracy: 0.2338 - val_loss: 2.4983 - val_accuracy: 0.2848\n",
      "Epoch 2/30\n",
      "24821/24821 [==============================] - 699s 28ms/step - loss: 2.4902 - accuracy: 0.2838 - val_loss: 2.3918 - val_accuracy: 0.3127\n",
      "Epoch 3/30\n",
      "24821/24821 [==============================] - 707s 28ms/step - loss: 2.4097 - accuracy: 0.3093 - val_loss: 2.3120 - val_accuracy: 0.3353\n",
      "Epoch 4/30\n",
      "24821/24821 [==============================] - 732s 29ms/step - loss: 2.3587 - accuracy: 0.3247 - val_loss: 2.2705 - val_accuracy: 0.3507\n",
      "Epoch 5/30\n",
      "24821/24821 [==============================] - 721s 29ms/step - loss: 2.3242 - accuracy: 0.3359 - val_loss: 2.2409 - val_accuracy: 0.3605\n",
      "Epoch 6/30\n",
      "24821/24821 [==============================] - 726s 29ms/step - loss: 2.2996 - accuracy: 0.3431 - val_loss: 2.2181 - val_accuracy: 0.3689\n",
      "Epoch 7/30\n",
      "24821/24821 [==============================] - 736s 30ms/step - loss: 2.2805 - accuracy: 0.3484 - val_loss: 2.2012 - val_accuracy: 0.3738\n",
      "Epoch 8/30\n",
      "24821/24821 [==============================] - 723s 29ms/step - loss: 2.2737 - accuracy: 0.3507 - val_loss: 2.2001 - val_accuracy: 0.3738\n",
      "Epoch 9/30\n",
      "24821/24821 [==============================] - 723s 29ms/step - loss: 2.2612 - accuracy: 0.3537 - val_loss: 2.1821 - val_accuracy: 0.3799\n",
      "Epoch 10/30\n",
      "24821/24821 [==============================] - 724s 29ms/step - loss: 2.2482 - accuracy: 0.3574 - val_loss: 2.1785 - val_accuracy: 0.3810\n",
      "Epoch 11/30\n",
      "24821/24821 [==============================] - 716s 29ms/step - loss: 2.2344 - accuracy: 0.3614 - val_loss: 2.1667 - val_accuracy: 0.3822\n",
      "Epoch 12/30\n",
      "24821/24821 [==============================] - 706s 28ms/step - loss: 2.2247 - accuracy: 0.3643 - val_loss: 2.1548 - val_accuracy: 0.3867\n",
      "Epoch 13/30\n",
      "24821/24821 [==============================] - 734s 30ms/step - loss: 2.2156 - accuracy: 0.3662 - val_loss: 2.1459 - val_accuracy: 0.3875\n",
      "Epoch 14/30\n",
      "24821/24821 [==============================] - 711s 29ms/step - loss: 2.2087 - accuracy: 0.3687 - val_loss: 2.1435 - val_accuracy: 0.3890\n",
      "Epoch 15/30\n",
      "24821/24821 [==============================] - 705s 28ms/step - loss: 2.2018 - accuracy: 0.3705 - val_loss: 2.1377 - val_accuracy: 0.3922\n",
      "Epoch 16/30\n",
      "24821/24821 [==============================] - 698s 28ms/step - loss: 2.1951 - accuracy: 0.3729 - val_loss: 2.1309 - val_accuracy: 0.3947\n",
      "Epoch 17/30\n",
      "24821/24821 [==============================] - 697s 28ms/step - loss: 2.1900 - accuracy: 0.3747 - val_loss: 2.1262 - val_accuracy: 0.3951\n",
      "Epoch 18/30\n",
      "24821/24821 [==============================] - 697s 28ms/step - loss: 2.1852 - accuracy: 0.3754 - val_loss: 2.1234 - val_accuracy: 0.3956\n",
      "Epoch 19/30\n",
      "24821/24821 [==============================] - 692s 28ms/step - loss: 2.1812 - accuracy: 0.3768 - val_loss: 2.1224 - val_accuracy: 0.3962\n",
      "Epoch 20/30\n",
      "24821/24821 [==============================] - 732s 30ms/step - loss: 2.1771 - accuracy: 0.3780 - val_loss: 2.1188 - val_accuracy: 0.3964\n",
      "Epoch 21/30\n",
      "24821/24821 [==============================] - 767s 31ms/step - loss: 2.1729 - accuracy: 0.3788 - val_loss: 2.1167 - val_accuracy: 0.3996\n",
      "Epoch 22/30\n",
      "24821/24821 [==============================] - 775s 31ms/step - loss: 2.1699 - accuracy: 0.3798 - val_loss: 2.1132 - val_accuracy: 0.3982\n",
      "Epoch 23/30\n",
      "24821/24821 [==============================] - 776s 31ms/step - loss: 2.1674 - accuracy: 0.3808 - val_loss: 2.1109 - val_accuracy: 0.4015\n",
      "Epoch 24/30\n",
      "24821/24821 [==============================] - 763s 31ms/step - loss: 2.1649 - accuracy: 0.3818 - val_loss: 2.1047 - val_accuracy: 0.3998\n",
      "Epoch 25/30\n",
      "24821/24821 [==============================] - 798s 32ms/step - loss: 2.1622 - accuracy: 0.3831 - val_loss: 2.1039 - val_accuracy: 0.4026\n",
      "Epoch 26/30\n",
      "24821/24821 [==============================] - 811s 33ms/step - loss: 2.1603 - accuracy: 0.3829 - val_loss: 2.1022 - val_accuracy: 0.4009\n",
      "Epoch 27/30\n",
      "24821/24821 [==============================] - 812s 33ms/step - loss: 2.1576 - accuracy: 0.3832 - val_loss: 2.1015 - val_accuracy: 0.4024\n",
      "Epoch 28/30\n",
      "24821/24821 [==============================] - 809s 33ms/step - loss: 2.1553 - accuracy: 0.3837 - val_loss: 2.1025 - val_accuracy: 0.4038\n",
      "Epoch 29/30\n",
      "24821/24821 [==============================] - 763s 31ms/step - loss: 2.1548 - accuracy: 0.3844 - val_loss: 2.0990 - val_accuracy: 0.4029\n",
      "Epoch 30/30\n",
      "24821/24821 [==============================] - 751s 30ms/step - loss: 2.1528 - accuracy: 0.3850 - val_loss: 2.0977 - val_accuracy: 0.4038\n"
     ]
    }
   ],
   "source": [
    "history = model2.fit(X, y, \n",
    "    epochs=30, \n",
    "    verbose=1,\n",
    "    callbacks=[ModelCheckpointCb, LearningRateSchedulerCb],\n",
    "    batch_size=None, \n",
    "    validation_split=0.3, \n",
    "#     validation_data=(X_test, y_test), \n",
    "    shuffle=True, \n",
    "#     class_weight=None,\n",
    "#     sample_weight=None, \n",
    "#     initial_epoch=0, \n",
    "#     steps_per_epoch=None,\n",
    "#     validation_steps=None, \n",
    "#     validation_batch_size=None, \n",
    "#     validation_freq=1,\n",
    "#     max_queue_size=10, \n",
    "#     workers=1, \n",
    "#     use_multiprocessing=False\n",
    ")"
   ]
  },
  {
   "cell_type": "code",
   "execution_count": 114,
   "id": "c91be96e",
   "metadata": {},
   "outputs": [
    {
     "data": {
      "image/png": "[encoded data removed]",
      "text/plain": [
       "<Figure size 432x288 with 1 Axes>"
      ]
     },
     "metadata": {
      "needs_background": "light"
     },
     "output_type": "display_data"
    }
   ],
   "source": [
    "plot_graphs(history, 'val_loss')"
   ]
  },
  {
   "cell_type": "code",
   "execution_count": 115,
   "id": "c20f3e6d",
   "metadata": {},
   "outputs": [
    {
     "data": {
      "image/png": "[encoded data removed]",
      "text/plain": [
       "<Figure size 432x288 with 1 Axes>"
      ]
     },
     "metadata": {
      "needs_background": "light"
     },
     "output_type": "display_data"
    }
   ],
   "source": [
    "plot_graphs(history, 'val_accuracy')"
   ]
  },
  {
   "cell_type": "code",
   "execution_count": 198,
   "id": "f4bf79b2",
   "metadata": {},
   "outputs": [
    {
     "data": {
      "image/png": "[encoded data removed]",
      "text/plain": [
       "<Figure size 432x288 with 1 Axes>"
      ]
     },
     "metadata": {
      "needs_background": "light"
     },
     "output_type": "display_data"
    }
   ],
   "source": [
    "plot_graphs(history, 'val_loss')"
   ]
  },
  {
   "cell_type": "code",
   "execution_count": 201,
   "id": "6eacfe3f",
   "metadata": {},
   "outputs": [
    {
     "name": "stderr",
     "output_type": "stream",
     "text": [
      "WARNING:absl:Found untraced functions such as lstm_cell_6_layer_call_fn, lstm_cell_6_layer_call_and_return_conditional_losses, lstm_cell_6_layer_call_fn, lstm_cell_6_layer_call_and_return_conditional_losses, lstm_cell_6_layer_call_and_return_conditional_losses while saving (showing 5 of 5). These functions will not be directly callable after loading.\n",
      "WARNING:absl:Found untraced functions such as lstm_cell_6_layer_call_fn, lstm_cell_6_layer_call_and_return_conditional_losses, lstm_cell_6_layer_call_fn, lstm_cell_6_layer_call_and_return_conditional_losses, lstm_cell_6_layer_call_and_return_conditional_losses while saving (showing 5 of 5). These functions will not be directly callable after loading.\n"
     ]
    },
    {
     "name": "stdout",
     "output_type": "stream",
     "text": [
      "INFO:tensorflow:Assets written to: lstm1layer_model/assets\n"
     ]
    },
    {
     "name": "stderr",
     "output_type": "stream",
     "text": [
      "INFO:tensorflow:Assets written to: lstm1layer_model/assets\n"
     ]
    }
   ],
   "source": [
    "model2.save('lstm1layer_model')"
   ]
  },
  {
   "cell_type": "markdown",
   "id": "8df5d3a7",
   "metadata": {},
   "source": [
    "## 5. Инференс полученной модели"
   ]
  },
  {
   "cell_type": "code",
   "execution_count": 102,
   "id": "9d1f2847",
   "metadata": {},
   "outputs": [
    {
     "name": "stdout",
     "output_type": "stream",
     "text": [
      "приветствие затянулось на несколько вродители,\n",
      "им зае призиденторта согорами в сосесуми рроведе с сосрийской ке просева об пнобо с общела он вобороднтое влодедать в инсотия чесьдае в сосрий сазорунотти в соссий сакали проведа пода саков\n"
     ]
    }
   ],
   "source": [
    "# Для обычного токенайзера\n",
    "composition = \"приветствие затянулось на несколько \"\n",
    "next_words = 200\n",
    "  \n",
    "for _ in range(next_words):\n",
    "    token_list = tokenizer.texts_to_sequences([composition])[0]\n",
    "    token_list = pad_sequences([token_list], maxlen=window_length-1, padding='pre')\n",
    "    token_list = token_list.reshape((1,window_length-1,1))\n",
    "    predicted = np.argmax(model.predict(token_list), axis=-1)\n",
    "    output_character = tokenizer.sequences_to_texts([predicted])[0]\n",
    "    composition += output_character\n",
    "print(composition)"
   ]
  },
  {
   "cell_type": "code",
   "execution_count": 120,
   "id": "69ac8155",
   "metadata": {},
   "outputs": [
    {
     "data": {
      "text/plain": [
       "['<PAD>']"
      ]
     },
     "execution_count": 120,
     "metadata": {},
     "output_type": "execute_result"
    }
   ],
   "source": [
    "output_character"
   ]
  },
  {
   "cell_type": "code",
   "execution_count": 122,
   "id": "115410ed",
   "metadata": {},
   "outputs": [
    {
     "name": "stdout",
     "output_type": "stream",
     "text": [
      "<BOS>приветствие затянулось на несколько <PAD><PAD><PAD><PAD><PAD><PAD><PAD><PAD><PAD><PAD><PAD><PAD><PAD><PAD><PAD><PAD><PAD><PAD><PAD><PAD><PAD><PAD><PAD><PAD><PAD><PAD><PAD><PAD><PAD><PAD><PAD><PAD><PAD><PAD><PAD><PAD><PAD><PAD><PAD><PAD><PAD><PAD><PAD><PAD><PAD><PAD><PAD><PAD><PAD><PAD><PAD><PAD><PAD><PAD><PAD><PAD><PAD><PAD><PAD><PAD><PAD><PAD><PAD><PAD><PAD><PAD><PAD><PAD><PAD><PAD><PAD><PAD><PAD><PAD><PAD><PAD><PAD><PAD><PAD><PAD><PAD><PAD><PAD><PAD><PAD><PAD><PAD><PAD><PAD><PAD><PAD><PAD><PAD><PAD><PAD><PAD><PAD><PAD><PAD><PAD><PAD><PAD><PAD><PAD><PAD><PAD><PAD><PAD><PAD><PAD><PAD><PAD><PAD><PAD><PAD><PAD><PAD><PAD><PAD><PAD><PAD><PAD><PAD><PAD><PAD><PAD><PAD><PAD><PAD><PAD><PAD><PAD><PAD><PAD><PAD><PAD><PAD><PAD><PAD><PAD><PAD><PAD><PAD><PAD><PAD><PAD><PAD><PAD><PAD><PAD><PAD><PAD><PAD><PAD><PAD><PAD><PAD><PAD><PAD><PAD><PAD><PAD><PAD><PAD><PAD><PAD><PAD><PAD><PAD><PAD><PAD><PAD><PAD><PAD><PAD><PAD><PAD><PAD><PAD><PAD><PAD><PAD><PAD><PAD><PAD><PAD><PAD><PAD><PAD><PAD><PAD><PAD><PAD><PAD><PAD><PAD><PAD><PAD><PAD><PAD>\n"
     ]
    }
   ],
   "source": [
    "# Для bpe\n",
    "composition = \"<BOS>приветствие затянулось на несколько \"\n",
    "next_words = 200\n",
    "  \n",
    "for _ in range(next_words):\n",
    "    token_list = [2] + bpe.encode(composition)\n",
    "    token_list = pad_sequences([token_list], maxlen=max_sequence_length-1, padding='post')\n",
    "    token_list = token_list.reshape((1,max_sequence_length-1,1))\n",
    "    predicted = np.argmax(model2.predict(token_list), axis=-1)\n",
    "    output_character = bpe.decode([predicted])[0]\n",
    "    composition += output_character\n",
    "print(composition)"
   ]
  },
  {
   "cell_type": "code",
   "execution_count": 44,
   "id": "bdcdf925",
   "metadata": {},
   "outputs": [],
   "source": [
    "import random"
   ]
  },
  {
   "cell_type": "code",
   "execution_count": 45,
   "id": "882b503f",
   "metadata": {},
   "outputs": [],
   "source": [
    "def return_ordered_indices(ar):\n",
    "    d = {i:v for i,v in enumerate(ar)}\n",
    "    return sorted(d, key=d.get, reverse=True)"
   ]
  },
  {
   "cell_type": "code",
   "execution_count": 46,
   "id": "26ccebfe",
   "metadata": {},
   "outputs": [],
   "source": [
    "# ensures always sums to 1\n",
    "def normalize_softmax(ar):\n",
    "    s = sum(ar)\n",
    "    if (s!=1):\n",
    "        ar[0] += 1-s\n",
    "    return ar\n",
    "        "
   ]
  },
  {
   "cell_type": "code",
   "execution_count": 47,
   "id": "bc2ecda6",
   "metadata": {},
   "outputs": [
    {
     "name": "stdout",
     "output_type": "stream",
     "text": [
      "как было сказано осенее с онкет пантоти и ресетиеее ес о осессон в паттеле онти портовония сакомо презедлитеви презисселе нерари соргорам сосриий,\n",
      "подономо по накраветения подоваи полодать по накогния сообщал возении,\n"
     ]
    }
   ],
   "source": [
    "composition = \"как было сказано \"\n",
    "next_words = 200\n",
    "T = 2 # токены из top-T будут случайно выбираться\n",
    "temperature = 1 # параметр сглаживания распределения выбранных токенов\n",
    "  \n",
    "for _ in range(next_words):\n",
    "    token_list = tokenizer.texts_to_sequences([composition])[0]\n",
    "    token_list = pad_sequences([token_list], maxlen=window_length-1, padding='pre')\n",
    "    token_list = token_list.reshape((1,window_length-1,1))\n",
    "    \n",
    "    output = model2.predict(token_list)\n",
    "    topmost_indicies = return_ordered_indices(output[0, :])[:T]\n",
    "    probs = tf.nn.softmax(output[0, topmost_indicies] /  temperature).numpy()\n",
    "    probs = normalize_softmax(probs)\n",
    "    predicted = np.random.choice(topmost_indicies, p=probs)\n",
    "#     predicted = topmost_indicies[0]\n",
    "    output_character = tokenizer.sequences_to_texts([[predicted]])[0]\n",
    "    composition += output_character\n",
    "print(composition)"
   ]
  },
  {
   "cell_type": "code",
   "execution_count": null,
   "id": "8e7331ff",
   "metadata": {},
   "outputs": [],
   "source": []
  }
 ],
 "metadata": {
  "kernelspec": {
   "display_name": "Python 3.8.5 64-bit ('text_generation')",
   "language": "python",
   "name": "python38564bitvenvvenv5b01357faf914deaa22a148ccdaf04c5"
  },
  "language_info": {
   "codemirror_mode": {
    "name": "ipython",
    "version": 3
   },
   "file_extension": ".py",
   "mimetype": "text/x-python",
   "name": "python",
   "nbconvert_exporter": "python",
   "pygments_lexer": "ipython3",
   "version": "3.8.5"
  }
 },
 "nbformat": 4,
 "nbformat_minor": 5
}
