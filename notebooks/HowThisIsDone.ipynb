{
 "cells": [
  {
   "cell_type": "markdown",
   "id": "fefded0b",
   "metadata": {},
   "source": [
    "# Генерация текста с помощью LSTM-сетей"
   ]
  },
  {
   "cell_type": "markdown",
   "id": "c7b00f16",
   "metadata": {},
   "source": [
    "Сеть способна выучить распределение символов в последовательностях\n",
    "\n",
    "\n",
    "Датасет формируем проходясь окном по текстовому корпусу, задача сети - предсказывать следующий символ на основании нескольких предыдущих.\n",
    "Данный подход можно улучшить, используя только отдельные предложения с паддингами."
   ]
  },
  {
   "cell_type": "code",
   "execution_count": 1,
   "id": "2b809170",
   "metadata": {},
   "outputs": [],
   "source": [
    "import tensorflow as tf\n",
    "import numpy as np\n",
    "\n",
    "from tensorflow.keras.preprocessing.sequence import pad_sequences\n",
    "from tensorflow.keras.preprocessing.text import Tokenizer\n",
    "from tensorflow.keras.models import Sequential\n",
    "from tensorflow.keras.layers import Dense, Embedding, LSTM, Bidirectional, Dropout\n",
    "from tensorflow.keras.callbacks import ModelCheckpoint, LearningRateScheduler\n",
    "from tensorflow.keras.utils import to_categorical"
   ]
  },
  {
   "cell_type": "code",
   "execution_count": 2,
   "id": "adf47612",
   "metadata": {},
   "outputs": [],
   "source": [
    "import pandas as pd\n",
    "from tqdm import tqdm"
   ]
  },
  {
   "cell_type": "markdown",
   "id": "15a3e597",
   "metadata": {},
   "source": [
    "### 0. Получение данных для обучения"
   ]
  },
  {
   "cell_type": "markdown",
   "id": "9f545d27",
   "metadata": {},
   "source": [
    "Для обучения используется датасет российских новостей, который был сохранён в файл `text_corpus.parquet` со следующими параметрами:"
   ]
  },
  {
   "cell_type": "code",
   "execution_count": 12,
   "id": "caf621f5",
   "metadata": {},
   "outputs": [],
   "source": [
    "# data.to_parquet(\"text_corpus.parquet\", engine=\"pyarrow\", compression=\"gzip\", index=False)"
   ]
  },
  {
   "cell_type": "code",
   "execution_count": 17,
   "id": "9e18455f",
   "metadata": {},
   "outputs": [],
   "source": [
    "data = pd.read_parquet(\"text_corpus.parquet\", engine=\"pyarrow\", )"
   ]
  },
  {
   "cell_type": "code",
   "execution_count": 18,
   "id": "df95b05d",
   "metadata": {},
   "outputs": [
    {
     "data": {
      "text/plain": [
       "50000"
      ]
     },
     "execution_count": 18,
     "metadata": {},
     "output_type": "execute_result"
    }
   ],
   "source": [
    "len(data)"
   ]
  },
  {
   "cell_type": "code",
   "execution_count": 23,
   "id": "42048921",
   "metadata": {},
   "outputs": [],
   "source": [
    "# после обучения токенизатора можно уменьшить тренировочную выборку\n",
    "# но нужно не забыть обновить переменную corpus\n",
    "data = data.sample(10000)"
   ]
  },
  {
   "cell_type": "markdown",
   "id": "9cbf3f27",
   "metadata": {},
   "source": [
    "### 1. Вспомогательные функции:\n",
    "+ Визуализация процесса обучения\n",
    "    + Сможем посмотреть, как меняется качество с течением времени.\n",
    "+ Коллбек ModelCheckpoint\n",
    "    + Процесс обучения LSTM сетей достаточно длительный. Будет обидно, если из-за непредвиденного сбоя потеряется прогресс за многие часы обучения.\n",
    "+ Колбек динамической подстройки размера батча и learning rate\n",
    "    + Подстраивать LR это уже стандартная практика, а я хочу ещё и размер батча менять: предположу, что большой батч позволит дать некое \"обобщённое\" представление о распределении токенов, а маленький батч улучшит \"грамотность\".\n",
    "\n"
   ]
  },
  {
   "cell_type": "code",
   "execution_count": 6,
   "id": "a7d0bd36",
   "metadata": {},
   "outputs": [],
   "source": [
    "import matplotlib.pyplot as plt\n",
    "\n",
    "\n",
    "def plot_graphs(history, string):\n",
    "    plt.plot(history.history[string])\n",
    "    plt.xlabel(\"Epochs\")\n",
    "    plt.ylabel(string)\n",
    "    plt.show()"
   ]
  },
  {
   "cell_type": "code",
   "execution_count": 7,
   "id": "3b524845",
   "metadata": {},
   "outputs": [],
   "source": [
    "ModelCheckpointCb = ModelCheckpoint(\n",
    "    filepath=\"./model2_checkpoints/\", \n",
    "    monitor='val_loss', \n",
    "    verbose=0, \n",
    "    save_best_only=True,\n",
    "    save_weights_only=True, \n",
    "    mode='auto', \n",
    "    save_freq='epoch',\n",
    "    options=None\n",
    ")"
   ]
  },
  {
   "cell_type": "code",
   "execution_count": 8,
   "id": "7267ddb2",
   "metadata": {},
   "outputs": [],
   "source": [
    "def scheduler(epoch, lr):\n",
    "    if epoch < 30:\n",
    "        return lr\n",
    "    else:\n",
    "        return lr * tf.math.exp(-0.1)\n",
    "\n",
    "\n",
    "LearningRateSchedulerCb = LearningRateScheduler(\n",
    "    scheduler, \n",
    "    verbose=0\n",
    ")\n"
   ]
  },
  {
   "cell_type": "code",
   "execution_count": 9,
   "id": "fe4c3909",
   "metadata": {
    "jupyter": {
     "source_hidden": true
    }
   },
   "outputs": [],
   "source": [
    "# весь текст одной \"портянкой\", чтобы заранее оценить, какие символы могут нам попадаться\n",
    "# raw_text = \" \".join(data.text)\n",
    "# chars = sorted(list(set(raw_text)))\n",
    "# chars"
   ]
  },
  {
   "cell_type": "markdown",
   "id": "b6b6766e",
   "metadata": {},
   "source": [
    "### 3. Предобработка и создание датасета"
   ]
  },
  {
   "cell_type": "markdown",
   "id": "811c924f",
   "metadata": {},
   "source": [
    "Для тренировки LSTM модели понадобится немного поработать с форматами"
   ]
  },
  {
   "cell_type": "markdown",
   "id": "733e80cd",
   "metadata": {},
   "source": [
    "#### 3.1 Токенизация BPE "
   ]
  },
  {
   "cell_type": "markdown",
   "id": "0a71b1fe",
   "metadata": {},
   "source": [
    "BPE токенизация посредством yttm эффективна, но потребуется поработать с файлом"
   ]
  },
  {
   "cell_type": "code",
   "execution_count": 9,
   "id": "a0bdd8ee",
   "metadata": {},
   "outputs": [],
   "source": [
    "import youtokentome as yttm\n",
    "import re"
   ]
  },
  {
   "cell_type": "code",
   "execution_count": 33,
   "id": "cfb40621",
   "metadata": {},
   "outputs": [],
   "source": [
    "total_words = 800\n",
    "max_sequence_length = 80\n",
    "n_samples = 600000 # сколько тренировочных последовательностей потом сгенерируем из корпуса"
   ]
  },
  {
   "cell_type": "markdown",
   "id": "3a397f3b",
   "metadata": {},
   "source": [
    "##### 3.2 Создаём токенизатор BPE и обучаем его"
   ]
  },
  {
   "cell_type": "code",
   "execution_count": 28,
   "id": "8a5f1662",
   "metadata": {},
   "outputs": [],
   "source": [
    "corpus = \" \\n\".join(data.text.to_list()).lower()\n",
    "# Хочу отделить всю пунктуацию от слов пробелом\n",
    "corpus = \" \".join(re.findall(r\"[\\w']+|[.,!?;\\n]\", corpus))"
   ]
  },
  {
   "cell_type": "code",
   "execution_count": 12,
   "id": "900eb71c",
   "metadata": {},
   "outputs": [],
   "source": [
    "train_data_path = \"yttm_train_data.txt\"\n",
    "bpe_model_path = \"bpe.yttm\""
   ]
  },
  {
   "cell_type": "code",
   "execution_count": 20,
   "id": "40c707a2",
   "metadata": {},
   "outputs": [],
   "source": [
    "with open(train_data_path, \"w\") as _file:\n",
    "    _file.writelines(corpus)"
   ]
  },
  {
   "cell_type": "code",
   "execution_count": 21,
   "id": "71e665f3",
   "metadata": {},
   "outputs": [],
   "source": [
    "# Training model\n",
    "# (data, model, vocab_size, coverage, n_threads=-1, pad_id=0, unk_id=1, bos_id=2, eos_id=3)\n",
    "bpe = yttm.BPE.train(data=train_data_path, vocab_size=total_words, model=bpe_model_path)"
   ]
  },
  {
   "cell_type": "code",
   "execution_count": 15,
   "id": "7c979e7b",
   "metadata": {},
   "outputs": [],
   "source": [
    "# Loading model\n",
    "bpe = yttm.BPE(model=bpe_model_path)"
   ]
  },
  {
   "cell_type": "code",
   "execution_count": 22,
   "id": "d68997fd",
   "metadata": {},
   "outputs": [
    {
     "name": "stdout",
     "output_type": "stream",
     "text": [
      "<PAD> <UNK> <BOS> <EOS> ▁ о е и а н т с р в л к п д м у я ы г з б , ь ч й . х ж ' ц ю ш ф щ э ъ ? ё ! ; _ ▁п ▁с ▁в ▁, ст ни ра ро но ре на ▁о ко то ▁. ▁и ▁по го не де те ли ва ▁м за ны ▁на ль ка ри та ле ла ▁д во ве ▁б ти ци ▁со ви ▁ч ки ло ▁у ▁за ▁' да ть ен ми ▁а ▁не ▁ко сс ▁пре ет ру ся ди ▁про н\n"
     ]
    }
   ],
   "source": [
    "print(' '.join(bpe.vocab())[:300])"
   ]
  },
  {
   "cell_type": "code",
   "execution_count": 102,
   "id": "6bce2133",
   "metadata": {},
   "outputs": [],
   "source": [
    "# encode(self, \n",
    "#     sentences, \n",
    "#     output_type=yttm.OutputType.ID, \n",
    "#     bos=False, \n",
    "#     eos=False, \n",
    "#     reverse=False, \n",
    "#     dropout_prob=0)"
   ]
  },
  {
   "cell_type": "code",
   "execution_count": null,
   "id": "3e73fc97",
   "metadata": {},
   "outputs": [],
   "source": []
  },
  {
   "cell_type": "code",
   "execution_count": 26,
   "id": "490b7375",
   "metadata": {},
   "outputs": [],
   "source": [
    "encoded_corpus = np.array(bpe.encode(corpus))\n",
    "\n",
    "# sequences = sequence[:-(len(sequence)%max_sequence_length)].reshape((len(sequence)//max_sequence_length, max_sequence_length))"
   ]
  },
  {
   "cell_type": "code",
   "execution_count": 46,
   "id": "5349cc55",
   "metadata": {},
   "outputs": [
    {
     "name": "stderr",
     "output_type": "stream",
     "text": [
      "100%|██████████| 600000/600000 [00:00<00:00, 2331157.47it/s]\n"
     ]
    }
   ],
   "source": [
    "dataset = []\n",
    "# берём не больше семплов чем n_samples, \n",
    "# или не больше чем максимально возможное количество, если вдруг оно меньше n_samples\n",
    "for i in tqdm(range(min(len(encoded_corpus)-max_sequence_length, n_samples))):\n",
    "        # сами добавляем BOS и EOS токены \n",
    "#         dataset.append([2] + encoded_corpus[i: i+max_sequence_length - 2] + [3])\n",
    "    dataset.append(encoded_corpus[i: i+max_sequence_length - 2])\n",
    "        "
   ]
  },
  {
   "cell_type": "code",
   "execution_count": 51,
   "id": "698bf780",
   "metadata": {},
   "outputs": [],
   "source": [
    "# на всякий случай убедимся, что все последовательности точно одной длины\n",
    "# за одно это сконвертирует в np.array\n",
    "dataset = pad_sequences(dataset, \n",
    "                        maxlen=max_sequence_length, \n",
    "                        padding='pre', \n",
    "                        value=0).astype(np.float32)"
   ]
  },
  {
   "cell_type": "code",
   "execution_count": 35,
   "id": "2b95e055",
   "metadata": {},
   "outputs": [
    {
     "data": {
      "text/plain": [
       "[\"ссар по вопросам расширения и европейской политики соседства штефан фюле в телефоном разговоре с и . о . премьер министра украины сергеем арбузовым получил заверения в том , что 'калашников у 'беркута' оста\"]"
      ]
     },
     "execution_count": 35,
     "metadata": {},
     "output_type": "execute_result"
    }
   ],
   "source": [
    "bpe.decode([list(dataset[5,:])])"
   ]
  },
  {
   "cell_type": "markdown",
   "id": "ece41c6e",
   "metadata": {},
   "source": [
    "------------------\n",
    "Собираем данные в нужные структуры"
   ]
  },
  {
   "cell_type": "code",
   "execution_count": 37,
   "id": "8e3d2745",
   "metadata": {},
   "outputs": [],
   "source": [
    "X, y = dataset[:,:-1], to_categorical(dataset[:,-1], num_classes=total_words)"
   ]
  },
  {
   "cell_type": "code",
   "execution_count": 38,
   "id": "fced0b76",
   "metadata": {},
   "outputs": [],
   "source": [
    "X = X.reshape((*X.shape, 1))"
   ]
  },
  {
   "cell_type": "code",
   "execution_count": 39,
   "id": "2ba16db9",
   "metadata": {},
   "outputs": [
    {
     "data": {
      "text/plain": [
       "(600000, 79, 1)"
      ]
     },
     "execution_count": 39,
     "metadata": {},
     "output_type": "execute_result"
    }
   ],
   "source": [
    "X.shape\n"
   ]
  },
  {
   "cell_type": "code",
   "execution_count": 40,
   "id": "7a9f0fc1",
   "metadata": {},
   "outputs": [
    {
     "data": {
      "text/plain": [
       "(600000, 800)"
      ]
     },
     "execution_count": 40,
     "metadata": {},
     "output_type": "execute_result"
    }
   ],
   "source": [
    "y.shape"
   ]
  },
  {
   "cell_type": "markdown",
   "id": "7ff9eacf",
   "metadata": {},
   "source": [
    "## 4. Модель"
   ]
  },
  {
   "cell_type": "markdown",
   "id": "a8167d47",
   "metadata": {},
   "source": [
    "В качестве модели будет применяться LSTM сеть с двумя слоями LSTM"
   ]
  },
  {
   "cell_type": "markdown",
   "id": "6decb2a7",
   "metadata": {},
   "source": [
    "TODO\n",
    "+ Gradient clipping\n",
    "+ More layers?"
   ]
  },
  {
   "cell_type": "code",
   "execution_count": 93,
   "id": "57cdee38",
   "metadata": {},
   "outputs": [],
   "source": [
    "model = Sequential()\n",
    "model.add(LSTM(128, input_shape=(X.shape[1], X.shape[2]), return_sequences=True))\n",
    "model.add(Dropout(0.2))\n",
    "model.add(LSTM(128))\n",
    "model.add(Dropout(0.2))\n",
    "model.add(Dense(y.shape[1], activation='softmax'))"
   ]
  },
  {
   "cell_type": "code",
   "execution_count": 50,
   "id": "9722f6cd",
   "metadata": {},
   "outputs": [],
   "source": [
    "model.compile(\n",
    "    loss='categorical_crossentropy', \n",
    "    optimizer='adam', \n",
    "    metrics=['accuracy']\n",
    ")"
   ]
  },
  {
   "cell_type": "code",
   "execution_count": 52,
   "id": "4237f02f",
   "metadata": {},
   "outputs": [
    {
     "name": "stdout",
     "output_type": "stream",
     "text": [
      "Model: \"sequential_2\"\n",
      "_________________________________________________________________\n",
      "Layer (type)                 Output Shape              Param #   \n",
      "=================================================================\n",
      "lstm_2 (LSTM)                (None, 99, 256)           264192    \n",
      "_________________________________________________________________\n",
      "dropout_2 (Dropout)          (None, 99, 256)           0         \n",
      "_________________________________________________________________\n",
      "lstm_3 (LSTM)                (None, 256)               525312    \n",
      "_________________________________________________________________\n",
      "dropout_3 (Dropout)          (None, 256)               0         \n",
      "_________________________________________________________________\n",
      "dense_2 (Dense)              (None, 65)                16705     \n",
      "=================================================================\n",
      "Total params: 806,209\n",
      "Trainable params: 806,209\n",
      "Non-trainable params: 0\n",
      "_________________________________________________________________\n"
     ]
    }
   ],
   "source": [
    "model.summary()"
   ]
  },
  {
   "cell_type": "code",
   "execution_count": null,
   "id": "b433a5a4",
   "metadata": {},
   "outputs": [],
   "source": [
    "history = model.fit(X, y, \n",
    "    epochs=1, \n",
    "    verbose=1,\n",
    "    callbacks=[ModelCheckpointCb],\n",
    "    batch_size=500, \n",
    "    validation_split=0.3, \n",
    "#     validation_data=(X_test, y_test), \n",
    "    shuffle=False, \n",
    "#     class_weight=None,\n",
    "#     sample_weight=None, \n",
    "#     initial_epoch=0, \n",
    "#     steps_per_epoch=None,\n",
    "#     validation_steps=None, \n",
    "#     validation_batch_size=None, \n",
    "#     validation_freq=1,\n",
    "#     max_queue_size=10, \n",
    "#     workers=1, \n",
    "#     use_multiprocessing=False\n",
    ")"
   ]
  },
  {
   "cell_type": "code",
   "execution_count": 42,
   "id": "ad9276ec",
   "metadata": {},
   "outputs": [],
   "source": [
    "model2 = Sequential()\n",
    "model2.add(LSTM(18))\n",
    "model2.add(Dropout(0.2))\n",
    "model2.add(Dense(y.shape[1], activation='softmax'))"
   ]
  },
  {
   "cell_type": "code",
   "execution_count": 43,
   "id": "a2360cab",
   "metadata": {},
   "outputs": [],
   "source": [
    "model2.compile(\n",
    "    loss='categorical_crossentropy', \n",
    "    optimizer='adam', \n",
    "    metrics=['accuracy']\n",
    ")"
   ]
  },
  {
   "cell_type": "code",
   "execution_count": null,
   "id": "a58cafae",
   "metadata": {},
   "outputs": [],
   "source": []
  },
  {
   "cell_type": "code",
   "execution_count": null,
   "id": "b611e834",
   "metadata": {},
   "outputs": [
    {
     "name": "stdout",
     "output_type": "stream",
     "text": [
      "Epoch 1/100\n",
      "26250/26250 [==============================] - 507s 19ms/step - loss: 5.8063 - accuracy: 0.0364 - val_loss: 5.7727 - val_accuracy: 0.0385\n",
      "Epoch 2/100\n",
      "26250/26250 [==============================] - 454s 17ms/step - loss: 5.8094 - accuracy: 0.0365 - val_loss: 5.7751 - val_accuracy: 0.0382\n",
      "Epoch 3/100\n",
      "26250/26250 [==============================] - 489s 19ms/step - loss: 5.8228 - accuracy: 0.0360 - val_loss: 5.7924 - val_accuracy: 0.0378\n",
      "Epoch 4/100\n",
      "25366/26250 [===========================>..] - ETA: 14s - loss: 5.8246 - accuracy: 0.0362"
     ]
    }
   ],
   "source": [
    "history = model2.fit(X, y, \n",
    "    epochs=100, \n",
    "    verbose=1,\n",
    "    callbacks=[ModelCheckpointCb, LearningRateSchedulerCb],\n",
    "    batch_size=16, \n",
    "    validation_split=0.3, \n",
    "#     validation_data=(X_test, y_test), \n",
    "    shuffle=True, \n",
    "#     class_weight=None,\n",
    "#     sample_weight=None, \n",
    "#     initial_epoch=0, \n",
    "#     steps_per_epoch=None,\n",
    "#     validation_steps=None, \n",
    "#     validation_batch_size=None, \n",
    "#     validation_freq=1,\n",
    "#     max_queue_size=10, \n",
    "#     workers=1, \n",
    "#     use_multiprocessing=False\n",
    ")"
   ]
  },
  {
   "cell_type": "code",
   "execution_count": 114,
   "id": "cb925323",
   "metadata": {},
   "outputs": [
    {
     "data": {
      "image/png": "[encoded data removed]",
      "text/plain": [
       "<Figure size 432x288 with 1 Axes>"
      ]
     },
     "metadata": {
      "needs_background": "light"
     },
     "output_type": "display_data"
    }
   ],
   "source": [
    "plot_graphs(history, 'val_loss')"
   ]
  },
  {
   "cell_type": "code",
   "execution_count": 105,
   "id": "57c99650",
   "metadata": {},
   "outputs": [
    {
     "data": {
      "image/png": "[encoded data removed]",
      "text/plain": [
       "<Figure size 432x288 with 1 Axes>"
      ]
     },
     "metadata": {
      "needs_background": "light"
     },
     "output_type": "display_data"
    }
   ],
   "source": [
    "plot_graphs(history, 'val_accuracy')"
   ]
  },
  {
   "cell_type": "code",
   "execution_count": 53,
   "id": "a6b6dbd6",
   "metadata": {},
   "outputs": [
    {
     "data": {
      "image/png": "[encoded data removed]",
      "text/plain": [
       "<Figure size 432x288 with 1 Axes>"
      ]
     },
     "metadata": {
      "needs_background": "light"
     },
     "output_type": "display_data"
    }
   ],
   "source": [
    "plot_graphs(history, 'val_loss')"
   ]
  },
  {
   "cell_type": "code",
   "execution_count": 201,
   "id": "35da86c5",
   "metadata": {},
   "outputs": [
    {
     "name": "stderr",
     "output_type": "stream",
     "text": [
      "WARNING:absl:Found untraced functions such as lstm_cell_6_layer_call_fn, lstm_cell_6_layer_call_and_return_conditional_losses, lstm_cell_6_layer_call_fn, lstm_cell_6_layer_call_and_return_conditional_losses, lstm_cell_6_layer_call_and_return_conditional_losses while saving (showing 5 of 5). These functions will not be directly callable after loading.\n",
      "WARNING:absl:Found untraced functions such as lstm_cell_6_layer_call_fn, lstm_cell_6_layer_call_and_return_conditional_losses, lstm_cell_6_layer_call_fn, lstm_cell_6_layer_call_and_return_conditional_losses, lstm_cell_6_layer_call_and_return_conditional_losses while saving (showing 5 of 5). These functions will not be directly callable after loading.\n"
     ]
    },
    {
     "name": "stdout",
     "output_type": "stream",
     "text": [
      "INFO:tensorflow:Assets written to: lstm1layer_model/assets\n"
     ]
    },
    {
     "name": "stderr",
     "output_type": "stream",
     "text": [
      "INFO:tensorflow:Assets written to: lstm1layer_model/assets\n"
     ]
    }
   ],
   "source": [
    "model2.save('lstm1layer_model')"
   ]
  },
  {
   "cell_type": "markdown",
   "id": "e1656cec",
   "metadata": {},
   "source": [
    "## 5. Инференс полученной модели"
   ]
  },
  {
   "cell_type": "code",
   "execution_count": 102,
   "id": "c65cf8f4",
   "metadata": {},
   "outputs": [
    {
     "name": "stdout",
     "output_type": "stream",
     "text": [
      "приветствие затянулось на несколько вродители,\n",
      "им зае призиденторта согорами в сосесуми рроведе с сосрийской ке просева об пнобо с общела он вобороднтое влодедать в инсотия чесьдае в сосрий сазорунотти в соссий сакали проведа пода саков\n"
     ]
    }
   ],
   "source": [
    "# Для обычного токенайзера\n",
    "composition = \"приветствие затянулось на несколько \"\n",
    "next_words = 200\n",
    "  \n",
    "for _ in range(next_words):\n",
    "    token_list = tokenizer.texts_to_sequences([composition])[0]\n",
    "    token_list = pad_sequences([token_list], maxlen=window_length-1, padding='pre')\n",
    "    token_list = token_list.reshape((1,window_length-1,1))\n",
    "    predicted = np.argmax(model.predict(token_list), axis=-1)\n",
    "    output_character = tokenizer.sequences_to_texts([predicted])[0]\n",
    "    composition += output_character\n",
    "print(composition)"
   ]
  },
  {
   "cell_type": "code",
   "execution_count": 120,
   "id": "4c3dd033",
   "metadata": {},
   "outputs": [
    {
     "data": {
      "text/plain": [
       "['<PAD>']"
      ]
     },
     "execution_count": 120,
     "metadata": {},
     "output_type": "execute_result"
    }
   ],
   "source": [
    "output_character"
   ]
  },
  {
   "cell_type": "code",
   "execution_count": 72,
   "id": "f906b943",
   "metadata": {},
   "outputs": [
    {
     "data": {
      "text/plain": [
       "[\"не планирует передислоцировать наблюдательные пункты в идлибской зоне деэскалации , при этом турция продолжит отправлять военных и бронетехнику в этот район 'в целях защиты мирного населения' . ка\"]"
      ]
     },
     "execution_count": 72,
     "metadata": {},
     "output_type": "execute_result"
    }
   ],
   "source": [
    "bpe.decode([list(X[522].reshape((max_sequence_length-1)))])"
   ]
  },
  {
   "cell_type": "code",
   "execution_count": 73,
   "id": "41037110",
   "metadata": {},
   "outputs": [
    {
     "name": "stdout",
     "output_type": "stream",
     "text": [
      "не планирует передислоцировать наблюдательные пункты в идлибской зоне деэскалации , при этом турция продолжит отправлять военных и бронетехнику в этот район 'в целях защиты мирного населения' . ка,,,,,,,,,,,,,,,,,,,,,,,,,,,,,,,,,,,,,,,,,,,,,,,,,,,,,,,,,,,,,,,,,,,,,,,,,,,,,,,,,,,,,,,,,,,,,,,,,,,,,,,,,,,,,,,,,,,,,,,,,,,,,,,,,,,,,,,,,,,,,,,,,,,,,,,,,,,,,,,,,,,,,,,,,,,,,,,,,,,,,,,,,,,,,,,,,,,,,,,,\n"
     ]
    }
   ],
   "source": [
    "# Для bpe\n",
    "composition = \"не планирует передислоцировать наблюдательные пункты в идлибской зоне деэскалации , при этом турция продолжит отправлять военных и бронетехнику в этот район 'в целях защиты мирного населения' . ка\"\n",
    "next_words = 200\n",
    "  \n",
    "for _ in range(next_words):\n",
    "    token_list = bpe.encode(composition)\n",
    "    token_list = pad_sequences([token_list], maxlen=max_sequence_length-1, padding='pre', truncating=\"pre\")\n",
    "    token_list = token_list.reshape((1,max_sequence_length-1,1))\n",
    "    predicted = np.argmax(model2.predict(token_list), axis=-1)\n",
    "    output_character = bpe.decode([predicted])[0]\n",
    "    composition += output_character\n",
    "print(composition)"
   ]
  },
  {
   "cell_type": "code",
   "execution_count": 57,
   "id": "ce44f5fc",
   "metadata": {},
   "outputs": [
    {
     "data": {
      "text/plain": [
       "[[126, 341, 322, 6, 90, 10, 20, 156, 603, 71, 97, 109, 448]]"
      ]
     },
     "execution_count": 57,
     "metadata": {},
     "output_type": "execute_result"
    }
   ],
   "source": [
    "bpe.encode([\"приветствие затянулось на несколько \"])"
   ]
  },
  {
   "cell_type": "code",
   "execution_count": 44,
   "id": "ce8c4da3",
   "metadata": {},
   "outputs": [],
   "source": [
    "import random"
   ]
  },
  {
   "cell_type": "code",
   "execution_count": 45,
   "id": "b3929fb7",
   "metadata": {},
   "outputs": [],
   "source": [
    "def return_ordered_indices(ar):\n",
    "    d = {i:v for i,v in enumerate(ar)}\n",
    "    return sorted(d, key=d.get, reverse=True)"
   ]
  },
  {
   "cell_type": "code",
   "execution_count": 46,
   "id": "6f0aad5d",
   "metadata": {},
   "outputs": [],
   "source": [
    "# ensures always sums to 1\n",
    "def normalize_softmax(ar):\n",
    "    s = sum(ar)\n",
    "    if (s!=1):\n",
    "        ar[0] += 1-s\n",
    "    return ar\n",
    "        "
   ]
  },
  {
   "cell_type": "code",
   "execution_count": 47,
   "id": "a66ebbf0",
   "metadata": {},
   "outputs": [
    {
     "name": "stdout",
     "output_type": "stream",
     "text": [
      "как было сказано осенее с онкет пантоти и ресетиеее ес о осессон в паттеле онти портовония сакомо презедлитеви презисселе нерари соргорам сосриий,\n",
      "подономо по накраветения подоваи полодать по накогния сообщал возении,\n"
     ]
    }
   ],
   "source": [
    "composition = \"как было сказано \"\n",
    "next_words = 200\n",
    "T = 2 # токены из top-T будут случайно выбираться\n",
    "temperature = 1 # параметр сглаживания распределения выбранных токенов\n",
    "  \n",
    "for _ in range(next_words):\n",
    "    token_list = tokenizer.texts_to_sequences([composition])[0]\n",
    "    token_list = pad_sequences([token_list], maxlen=window_length-1, padding='pre')\n",
    "    token_list = token_list.reshape((1,window_length-1,1))\n",
    "    \n",
    "    output = model2.predict(token_list)\n",
    "    topmost_indicies = return_ordered_indices(output[0, :])[:T]\n",
    "    probs = tf.nn.softmax(output[0, topmost_indicies] /  temperature).numpy()\n",
    "    probs = normalize_softmax(probs)\n",
    "    predicted = np.random.choice(topmost_indicies, p=probs)\n",
    "#     predicted = topmost_indicies[0]\n",
    "    output_character = tokenizer.sequences_to_texts([[predicted]])[0]\n",
    "    composition += output_character\n",
    "print(composition)"
   ]
  },
  {
   "cell_type": "code",
   "execution_count": null,
   "id": "423e3b87",
   "metadata": {},
   "outputs": [],
   "source": []
  }
 ],
 "metadata": {
  "kernelspec": {
   "display_name": "Python 3.8.5 64-bit ('text_generation')",
   "language": "python",
   "name": "python38564bitvenvvenv5b01357faf914deaa22a148ccdaf04c5"
  },
  "language_info": {
   "codemirror_mode": {
    "name": "ipython",
    "version": 3
   },
   "file_extension": ".py",
   "mimetype": "text/x-python",
   "name": "python",
   "nbconvert_exporter": "python",
   "pygments_lexer": "ipython3",
   "version": "3.8.5"
  }
 },
 "nbformat": 4,
 "nbformat_minor": 5
}
